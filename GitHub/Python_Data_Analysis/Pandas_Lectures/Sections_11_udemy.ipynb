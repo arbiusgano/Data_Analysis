{
 "cells": [
  {
   "cell_type": "code",
   "execution_count": 2,
   "metadata": {},
   "outputs": [],
   "source": [
    "import pandas as pd"
   ]
  },
  {
   "cell_type": "markdown",
   "metadata": {},
   "source": [
    "## Triple Nested For Loop"
   ]
  },
  {
   "cell_type": "code",
   "execution_count": 3,
   "metadata": {},
   "outputs": [],
   "source": [
    "product = ['Product A','Product B','Product C']\n",
    "exp_sales = [10000,20000,30000,40000,5000]"
   ]
  },
  {
   "cell_type": "code",
   "execution_count": 4,
   "metadata": {},
   "outputs": [],
   "source": [
    "time_horizon = (1,2,12)"
   ]
  },
  {
   "cell_type": "code",
   "execution_count": 5,
   "metadata": {},
   "outputs": [
    {
     "name": "stdout",
     "output_type": "stream",
     "text": [
      "['Product A', 10000]\n",
      "['Product A', 20000]\n",
      "['Product A', 120000]\n",
      "['Product A', 20000]\n",
      "['Product A', 40000]\n",
      "['Product A', 240000]\n",
      "['Product A', 30000]\n",
      "['Product A', 60000]\n",
      "['Product A', 360000]\n",
      "['Product A', 40000]\n",
      "['Product A', 80000]\n",
      "['Product A', 480000]\n",
      "['Product A', 5000]\n",
      "['Product A', 10000]\n",
      "['Product A', 60000]\n",
      "['Product B', 10000]\n",
      "['Product B', 20000]\n",
      "['Product B', 120000]\n",
      "['Product B', 20000]\n",
      "['Product B', 40000]\n",
      "['Product B', 240000]\n",
      "['Product B', 30000]\n",
      "['Product B', 60000]\n",
      "['Product B', 360000]\n",
      "['Product B', 40000]\n",
      "['Product B', 80000]\n",
      "['Product B', 480000]\n",
      "['Product B', 5000]\n",
      "['Product B', 10000]\n",
      "['Product B', 60000]\n",
      "['Product C', 10000]\n",
      "['Product C', 20000]\n",
      "['Product C', 120000]\n",
      "['Product C', 20000]\n",
      "['Product C', 40000]\n",
      "['Product C', 240000]\n",
      "['Product C', 30000]\n",
      "['Product C', 60000]\n",
      "['Product C', 360000]\n",
      "['Product C', 40000]\n",
      "['Product C', 80000]\n",
      "['Product C', 480000]\n",
      "['Product C', 5000]\n",
      "['Product C', 10000]\n",
      "['Product C', 60000]\n"
     ]
    }
   ],
   "source": [
    "for i in product:\n",
    "    for j in exp_sales :\n",
    "        for k in time_horizon :\n",
    "            print ([i, j*k])"
   ]
  },
  {
   "cell_type": "code",
   "execution_count": 6,
   "metadata": {},
   "outputs": [
    {
     "name": "stdout",
     "output_type": "stream",
     "text": [
      "['Product A', 10000]\n",
      "['Product A', 20000]\n",
      "['Product A', 120000]\n",
      "['Product A', 20000]\n",
      "['Product A', 40000]\n",
      "['Product A', 240000]\n",
      "['Product A', 30000]\n",
      "['Product A', 60000]\n",
      "['Product A', 360000]\n",
      "['Product A', 40000]\n",
      "['Product A', 80000]\n",
      "['Product A', 480000]\n",
      "['Product A', 5000]\n",
      "['Product A', 10000]\n",
      "['Product A', 60000]\n",
      "['Product B', 10000]\n",
      "['Product B', 20000]\n",
      "['Product B', 120000]\n",
      "['Product B', 20000]\n",
      "['Product B', 40000]\n",
      "['Product B', 240000]\n",
      "['Product B', 30000]\n",
      "['Product B', 60000]\n",
      "['Product B', 360000]\n",
      "['Product B', 40000]\n",
      "['Product B', 80000]\n",
      "['Product B', 480000]\n",
      "['Product B', 5000]\n",
      "['Product B', 10000]\n",
      "['Product B', 60000]\n",
      "['Product C', 10000]\n",
      "['Product C', 20000]\n",
      "['Product C', 120000]\n",
      "['Product C', 20000]\n",
      "['Product C', 40000]\n",
      "['Product C', 240000]\n",
      "['Product C', 30000]\n",
      "['Product C', 60000]\n",
      "['Product C', 360000]\n",
      "['Product C', 40000]\n",
      "['Product C', 80000]\n",
      "['Product C', 480000]\n",
      "['Product C', 5000]\n",
      "['Product C', 10000]\n",
      "['Product C', 60000]\n"
     ]
    }
   ],
   "source": [
    "for prod in product:\n",
    "    for sale in exp_sales:\n",
    "        for t_hor in time_horizon:\n",
    "            print ([prod,sale*t_hor])"
   ]
  },
  {
   "cell_type": "code",
   "execution_count": 7,
   "metadata": {},
   "outputs": [
    {
     "name": "stdout",
     "output_type": "stream",
     "text": [
      "expected sales for a period of 1 month (s) for Product A: $10000\n",
      "expected sales for a period of 2 month (s) for Product A: $20000\n",
      "expected sales for a period of 12 month (s) for Product A: $120000\n",
      "expected sales for a period of 1 month (s) for Product A: $20000\n",
      "expected sales for a period of 2 month (s) for Product A: $40000\n",
      "expected sales for a period of 12 month (s) for Product A: $240000\n",
      "expected sales for a period of 1 month (s) for Product A: $30000\n",
      "expected sales for a period of 2 month (s) for Product A: $60000\n",
      "expected sales for a period of 12 month (s) for Product A: $360000\n",
      "expected sales for a period of 1 month (s) for Product A: $40000\n",
      "expected sales for a period of 2 month (s) for Product A: $80000\n",
      "expected sales for a period of 12 month (s) for Product A: $480000\n",
      "expected sales for a period of 1 month (s) for Product A: $5000\n",
      "expected sales for a period of 2 month (s) for Product A: $10000\n",
      "expected sales for a period of 12 month (s) for Product A: $60000\n",
      "expected sales for a period of 1 month (s) for Product B: $10000\n",
      "expected sales for a period of 2 month (s) for Product B: $20000\n",
      "expected sales for a period of 12 month (s) for Product B: $120000\n",
      "expected sales for a period of 1 month (s) for Product B: $20000\n",
      "expected sales for a period of 2 month (s) for Product B: $40000\n",
      "expected sales for a period of 12 month (s) for Product B: $240000\n",
      "expected sales for a period of 1 month (s) for Product B: $30000\n",
      "expected sales for a period of 2 month (s) for Product B: $60000\n",
      "expected sales for a period of 12 month (s) for Product B: $360000\n",
      "expected sales for a period of 1 month (s) for Product B: $40000\n",
      "expected sales for a period of 2 month (s) for Product B: $80000\n",
      "expected sales for a period of 12 month (s) for Product B: $480000\n",
      "expected sales for a period of 1 month (s) for Product B: $5000\n",
      "expected sales for a period of 2 month (s) for Product B: $10000\n",
      "expected sales for a period of 12 month (s) for Product B: $60000\n",
      "expected sales for a period of 1 month (s) for Product C: $10000\n",
      "expected sales for a period of 2 month (s) for Product C: $20000\n",
      "expected sales for a period of 12 month (s) for Product C: $120000\n",
      "expected sales for a period of 1 month (s) for Product C: $20000\n",
      "expected sales for a period of 2 month (s) for Product C: $40000\n",
      "expected sales for a period of 12 month (s) for Product C: $240000\n",
      "expected sales for a period of 1 month (s) for Product C: $30000\n",
      "expected sales for a period of 2 month (s) for Product C: $60000\n",
      "expected sales for a period of 12 month (s) for Product C: $360000\n",
      "expected sales for a period of 1 month (s) for Product C: $40000\n",
      "expected sales for a period of 2 month (s) for Product C: $80000\n",
      "expected sales for a period of 12 month (s) for Product C: $480000\n",
      "expected sales for a period of 1 month (s) for Product C: $5000\n",
      "expected sales for a period of 2 month (s) for Product C: $10000\n",
      "expected sales for a period of 12 month (s) for Product C: $60000\n"
     ]
    }
   ],
   "source": [
    "for prod in product:\n",
    "    for sale in exp_sales:\n",
    "        for t_hor in time_horizon:\n",
    "            print (\"expected sales for a period of {0} month (s) for {1}: ${sales}\".format(t_hor, prod, sales = sale*t_hor))"
   ]
  },
  {
   "cell_type": "markdown",
   "metadata": {},
   "source": [
    "## List Comprehensions"
   ]
  },
  {
   "cell_type": "code",
   "execution_count": 8,
   "metadata": {},
   "outputs": [
    {
     "data": {
      "text/plain": [
       "[10, 20, 30, 40, 100, 43]"
      ]
     },
     "execution_count": 8,
     "metadata": {},
     "output_type": "execute_result"
    }
   ],
   "source": [
    "number = [10,20,30,40,100,43]\n",
    "number"
   ]
  },
  {
   "cell_type": "code",
   "execution_count": 9,
   "metadata": {},
   "outputs": [
    {
     "name": "stdout",
     "output_type": "stream",
     "text": [
      "[20, 40, 60, 80, 200, 86]\n"
     ]
    }
   ],
   "source": [
    "new_number = []\n",
    "\n",
    "for n in number:\n",
    "        new_number.append(n*2)\n",
    "\n",
    "print(new_number)"
   ]
  },
  {
   "cell_type": "code",
   "execution_count": 10,
   "metadata": {},
   "outputs": [
    {
     "name": "stdout",
     "output_type": "stream",
     "text": [
      "[20, 40, 60, 80, 200, 86]\n"
     ]
    }
   ],
   "source": [
    "new_number = [n*2 for n in number]\n",
    "print (new_number)"
   ]
  },
  {
   "cell_type": "code",
   "execution_count": 11,
   "metadata": {},
   "outputs": [
    {
     "name": "stdout",
     "output_type": "stream",
     "text": [
      "0 1 2 3 4 1 2 3 4 5 "
     ]
    }
   ],
   "source": [
    "for i in range (2):\n",
    "    for j in range (5):\n",
    "        print( i+j, end =\" \" )"
   ]
  },
  {
   "cell_type": "code",
   "execution_count": 12,
   "metadata": {},
   "outputs": [
    {
     "data": {
      "text/plain": [
       "[0, 1, 2, 3, 4, 1, 2, 3, 4, 5]"
      ]
     },
     "execution_count": 12,
     "metadata": {},
     "output_type": "execute_result"
    }
   ],
   "source": [
    "new_comperhasions1 = [i+j for i in range(2) for j in range(5)]\n",
    "new_comperhasions1"
   ]
  },
  {
   "cell_type": "code",
   "execution_count": 13,
   "metadata": {},
   "outputs": [
    {
     "data": {
      "text/plain": [
       "list"
      ]
     },
     "execution_count": 13,
     "metadata": {},
     "output_type": "execute_result"
    }
   ],
   "source": [
    "type(new_comperhasions1)"
   ]
  },
  {
   "cell_type": "code",
   "execution_count": 14,
   "metadata": {},
   "outputs": [
    {
     "data": {
      "text/plain": [
       "[[0, 1], [1, 2], [2, 3], [3, 4], [4, 5]]"
      ]
     },
     "execution_count": 14,
     "metadata": {},
     "output_type": "execute_result"
    }
   ],
   "source": [
    "new_comperhasions2 = [[i+j for i in range(2)] for j in range(5)]\n",
    "new_comperhasions2"
   ]
  },
  {
   "cell_type": "code",
   "execution_count": 15,
   "metadata": {},
   "outputs": [
    {
     "data": {
      "text/plain": [
       "[1, 2, 3, 4, 5, 6, 7, 8, 9, 10]"
      ]
     },
     "execution_count": 15,
     "metadata": {},
     "output_type": "execute_result"
    }
   ],
   "source": [
    "list(range(1,11))"
   ]
  },
  {
   "cell_type": "code",
   "execution_count": 16,
   "metadata": {},
   "outputs": [
    {
     "data": {
      "text/plain": [
       "[1, 27, 125, 343, 729]"
      ]
     },
     "execution_count": 16,
     "metadata": {},
     "output_type": "execute_result"
    }
   ],
   "source": [
    "[num ** 3 for num in range(1,11) if num %2 != 0]"
   ]
  },
  {
   "cell_type": "code",
   "execution_count": 17,
   "metadata": {},
   "outputs": [
    {
     "name": "stdout",
     "output_type": "stream",
     "text": [
      "1 27 125 343 729 "
     ]
    }
   ],
   "source": [
    "for i in range(1,11):\n",
    "    if i %2 !=0:\n",
    "        print(i ** 3, end=\" \")"
   ]
  },
  {
   "cell_type": "markdown",
   "metadata": {},
   "source": [
    "## Lambda Fungtios\n",
    "\n",
    "#### Fungsi Lambda adalah fungsi tanpa nama\n",
    "\n",
    "##### Fugsi lamda adalah jalan pintas (Shortcut), untuk membuat fungsi sederhana dan dapat dideklarasikan pada tempat dimana fungsi objek dibutuhkan"
   ]
  },
  {
   "cell_type": "code",
   "execution_count": 1,
   "metadata": {},
   "outputs": [],
   "source": [
    "tambah_10 = lambda x: x + 10"
   ]
  },
  {
   "cell_type": "code",
   "execution_count": 18,
   "metadata": {},
   "outputs": [
    {
     "data": {
      "text/plain": [
       "13"
      ]
     },
     "execution_count": 18,
     "metadata": {},
     "output_type": "execute_result"
    }
   ],
   "source": [
    "tambah_10(3) ## hasilnya 3+10 = 13"
   ]
  },
  {
   "cell_type": "code",
   "execution_count": 19,
   "metadata": {},
   "outputs": [],
   "source": [
    "pangkat_5 = lambda x: x ** 5"
   ]
  },
  {
   "cell_type": "code",
   "execution_count": 20,
   "metadata": {},
   "outputs": [
    {
     "data": {
      "text/plain": [
       "32"
      ]
     },
     "execution_count": 20,
     "metadata": {},
     "output_type": "execute_result"
    }
   ],
   "source": [
    "pangkat_5(2) ## Hasilnya 2 pangkat 5 = 32"
   ]
  },
  {
   "cell_type": "code",
   "execution_count": 25,
   "metadata": {},
   "outputs": [],
   "source": [
    "Peternak_DKI = pd.read_csv (\"./data-jumlah-peternak-di-provinsi-dki-jakarta-tahun-2010-2017.csv\")"
   ]
  },
  {
   "cell_type": "markdown",
   "metadata": {},
   "source": [
    "### pakai Lambda fungtios tapi tanpa variabel kalau kondisi perhitunganya banyak/atau mau lebih cepat "
   ]
  },
  {
   "cell_type": "code",
   "execution_count": 21,
   "metadata": {},
   "outputs": [
    {
     "data": {
      "text/plain": [
       "2.5"
      ]
     },
     "execution_count": 21,
     "metadata": {},
     "output_type": "execute_result"
    }
   ],
   "source": [
    "(lambda x: x/2) (5) ## hasilnya 5/2 = 2.5"
   ]
  },
  {
   "cell_type": "code",
   "execution_count": 22,
   "metadata": {},
   "outputs": [
    {
     "data": {
      "text/plain": [
       "53.792"
      ]
     },
     "execution_count": 22,
     "metadata": {},
     "output_type": "execute_result"
    }
   ],
   "source": [
    "(lambda x: (2+5 * x ** 4)**2 / (x + 3)** 3)(2) ## disini x = 2 maka hasilnya  53.792"
   ]
  },
  {
   "cell_type": "code",
   "execution_count": 27,
   "metadata": {},
   "outputs": [
    {
     "data": {
      "text/html": [
       "<div>\n",
       "<style scoped>\n",
       "    .dataframe tbody tr th:only-of-type {\n",
       "        vertical-align: middle;\n",
       "    }\n",
       "\n",
       "    .dataframe tbody tr th {\n",
       "        vertical-align: top;\n",
       "    }\n",
       "\n",
       "    .dataframe thead th {\n",
       "        text-align: right;\n",
       "    }\n",
       "</style>\n",
       "<table border=\"1\" class=\"dataframe\">\n",
       "  <thead>\n",
       "    <tr style=\"text-align: right;\">\n",
       "      <th></th>\n",
       "      <th>tahun</th>\n",
       "      <th>jenis_ternak</th>\n",
       "      <th>jumlah_peternak</th>\n",
       "      <th>satuan_peternak</th>\n",
       "    </tr>\n",
       "  </thead>\n",
       "  <tbody>\n",
       "    <tr>\n",
       "      <th>0</th>\n",
       "      <td>2010</td>\n",
       "      <td>Sapi perah</td>\n",
       "      <td>127</td>\n",
       "      <td>orang</td>\n",
       "    </tr>\n",
       "    <tr>\n",
       "      <th>1</th>\n",
       "      <td>2010</td>\n",
       "      <td>Sapi potong</td>\n",
       "      <td>0</td>\n",
       "      <td>orang</td>\n",
       "    </tr>\n",
       "    <tr>\n",
       "      <th>2</th>\n",
       "      <td>2010</td>\n",
       "      <td>Kerbau</td>\n",
       "      <td>12</td>\n",
       "      <td>orang</td>\n",
       "    </tr>\n",
       "    <tr>\n",
       "      <th>3</th>\n",
       "      <td>2010</td>\n",
       "      <td>Kambing/ Domba</td>\n",
       "      <td>362</td>\n",
       "      <td>orang</td>\n",
       "    </tr>\n",
       "    <tr>\n",
       "      <th>4</th>\n",
       "      <td>2010</td>\n",
       "      <td>Ayam ras</td>\n",
       "      <td>14</td>\n",
       "      <td>orang</td>\n",
       "    </tr>\n",
       "  </tbody>\n",
       "</table>\n",
       "</div>"
      ],
      "text/plain": [
       "   tahun    jenis_ternak  jumlah_peternak satuan_peternak\n",
       "0   2010    Sapi perah                127           orang\n",
       "1   2010     Sapi potong                0           orang\n",
       "2   2010          Kerbau               12           orang\n",
       "3   2010  Kambing/ Domba              362           orang\n",
       "4   2010        Ayam ras               14           orang"
      ]
     },
     "execution_count": 27,
     "metadata": {},
     "output_type": "execute_result"
    }
   ],
   "source": [
    "Peternak_DKI.head()"
   ]
  },
  {
   "cell_type": "markdown",
   "metadata": {},
   "source": [
    "### Lambda fungtions juga bisa banyak parameter contohnya :"
   ]
  },
  {
   "cell_type": "code",
   "execution_count": 23,
   "metadata": {},
   "outputs": [],
   "source": [
    "tambah_x_y=lambda x,y: x+y"
   ]
  },
  {
   "cell_type": "code",
   "execution_count": 24,
   "metadata": {},
   "outputs": [
    {
     "data": {
      "text/plain": [
       "39"
      ]
     },
     "execution_count": 24,
     "metadata": {},
     "output_type": "execute_result"
    }
   ],
   "source": [
    "tambah_x_y(35,4) ## Hasilnya 35 + 4 = 39"
   ]
  },
  {
   "cell_type": "code",
   "execution_count": null,
   "metadata": {},
   "outputs": [],
   "source": []
  }
 ],
 "metadata": {
  "kernelspec": {
   "display_name": "Python 3.9.12 ('base')",
   "language": "python",
   "name": "python3"
  },
  "language_info": {
   "codemirror_mode": {
    "name": "ipython",
    "version": 3
   },
   "file_extension": ".py",
   "mimetype": "text/x-python",
   "name": "python",
   "nbconvert_exporter": "python",
   "pygments_lexer": "ipython3",
   "version": "3.9.12"
  },
  "orig_nbformat": 4,
  "vscode": {
   "interpreter": {
    "hash": "367d28e31e7a52eba77a2daf5aac0b8141c7fb1fe010869a01b64def5edb5471"
   }
  }
 },
 "nbformat": 4,
 "nbformat_minor": 2
}
