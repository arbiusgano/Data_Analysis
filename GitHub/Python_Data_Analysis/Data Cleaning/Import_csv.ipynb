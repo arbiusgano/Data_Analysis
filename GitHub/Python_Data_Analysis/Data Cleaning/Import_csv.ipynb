{
 "cells": [
  {
   "cell_type": "code",
   "execution_count": 10,
   "metadata": {},
   "outputs": [
    {
     "data": {
      "text/plain": [
       "'c:\\\\Users\\\\ganoa\\\\OneDrive\\\\Documents\\\\Belajar_Python'"
      ]
     },
     "execution_count": 10,
     "metadata": {},
     "output_type": "execute_result"
    }
   ],
   "source": [
    "import os\n",
    "\n",
    "os.getcwd()"
   ]
  },
  {
   "cell_type": "code",
   "execution_count": 11,
   "metadata": {},
   "outputs": [
    {
     "data": {
      "text/plain": [
       "['Data',\n",
       " 'Import_csv.ipynb',\n",
       " 'Lending-company-single-column-data.csv',\n",
       " 'Lending-company.csv',\n",
       " 'NumPy',\n",
       " 'Pandas',\n",
       " 'Python',\n",
       " 'TextFile']"
      ]
     },
     "execution_count": 11,
     "metadata": {},
     "output_type": "execute_result"
    }
   ],
   "source": [
    "os.listdir(os.getcwd())"
   ]
  },
  {
   "cell_type": "code",
   "execution_count": 12,
   "metadata": {},
   "outputs": [
    {
     "data": {
      "text/html": [
       "<div>\n",
       "<style scoped>\n",
       "    .dataframe tbody tr th:only-of-type {\n",
       "        vertical-align: middle;\n",
       "    }\n",
       "\n",
       "    .dataframe tbody tr th {\n",
       "        vertical-align: top;\n",
       "    }\n",
       "\n",
       "    .dataframe thead th {\n",
       "        text-align: right;\n",
       "    }\n",
       "</style>\n",
       "<table border=\"1\" class=\"dataframe\">\n",
       "  <thead>\n",
       "    <tr style=\"text-align: right;\">\n",
       "      <th></th>\n",
       "      <th>LoanID;StringID;Product;CustomerGender;Location;Region;TotalPrice;StartDate;Deposit;DailyRate;TotalDays;AmountPaid30;AmountPaid60;AmountPaid360;LoanStatus360</th>\n",
       "    </tr>\n",
       "  </thead>\n",
       "  <tbody>\n",
       "    <tr>\n",
       "      <th>0</th>\n",
       "      <td>1;id_1;Product B;Male;Location 2;Region 2;1660...</td>\n",
       "    </tr>\n",
       "    <tr>\n",
       "      <th>1</th>\n",
       "      <td>2;id_2;Product B;Male;Location 3;Region 3;;1/2...</td>\n",
       "    </tr>\n",
       "    <tr>\n",
       "      <th>2</th>\n",
       "      <td>3;id_3;Product C;Female;Location 5;Region 5;15...</td>\n",
       "    </tr>\n",
       "    <tr>\n",
       "      <th>3</th>\n",
       "      <td>4;id_4;Product B;Male;Location 6;Region 1;1660...</td>\n",
       "    </tr>\n",
       "    <tr>\n",
       "      <th>4</th>\n",
       "      <td>5;id_5;Product D;Female;Location 7;Region 2;20...</td>\n",
       "    </tr>\n",
       "    <tr>\n",
       "      <th>...</th>\n",
       "      <td>...</td>\n",
       "    </tr>\n",
       "    <tr>\n",
       "      <th>1038</th>\n",
       "      <td>1039;id_1039;Product B;Female;Location 39;Regi...</td>\n",
       "    </tr>\n",
       "    <tr>\n",
       "      <th>1039</th>\n",
       "      <td>1040;id_1040;Product B;Male;Location 50;Region...</td>\n",
       "    </tr>\n",
       "    <tr>\n",
       "      <th>1040</th>\n",
       "      <td>1041;id_1041;Product B;Male;Location 23;Region...</td>\n",
       "    </tr>\n",
       "    <tr>\n",
       "      <th>1041</th>\n",
       "      <td>1042;id_1042;Product C;NotSpecified;Location 5...</td>\n",
       "    </tr>\n",
       "    <tr>\n",
       "      <th>1042</th>\n",
       "      <td>1043;id_1043;Product B;Female;Location 142;Reg...</td>\n",
       "    </tr>\n",
       "  </tbody>\n",
       "</table>\n",
       "<p>1043 rows × 1 columns</p>\n",
       "</div>"
      ],
      "text/plain": [
       "     LoanID;StringID;Product;CustomerGender;Location;Region;TotalPrice;StartDate;Deposit;DailyRate;TotalDays;AmountPaid30;AmountPaid60;AmountPaid360;LoanStatus360\n",
       "0     1;id_1;Product B;Male;Location 2;Region 2;1660...                                                                                                           \n",
       "1     2;id_2;Product B;Male;Location 3;Region 3;;1/2...                                                                                                           \n",
       "2     3;id_3;Product C;Female;Location 5;Region 5;15...                                                                                                           \n",
       "3     4;id_4;Product B;Male;Location 6;Region 1;1660...                                                                                                           \n",
       "4     5;id_5;Product D;Female;Location 7;Region 2;20...                                                                                                           \n",
       "...                                                 ...                                                                                                           \n",
       "1038  1039;id_1039;Product B;Female;Location 39;Regi...                                                                                                           \n",
       "1039  1040;id_1040;Product B;Male;Location 50;Region...                                                                                                           \n",
       "1040  1041;id_1041;Product B;Male;Location 23;Region...                                                                                                           \n",
       "1041  1042;id_1042;Product C;NotSpecified;Location 5...                                                                                                           \n",
       "1042  1043;id_1043;Product B;Female;Location 142;Reg...                                                                                                           \n",
       "\n",
       "[1043 rows x 1 columns]"
      ]
     },
     "execution_count": 12,
     "metadata": {},
     "output_type": "execute_result"
    }
   ],
   "source": [
    "pd.read_csv('Lending-company.csv')"
   ]
  },
  {
   "cell_type": "code",
   "execution_count": null,
   "metadata": {},
   "outputs": [],
   "source": [
    "filename = \"Lending-company.csv\"\n",
    "\n",
    "file = open (filename, mode= 'r')\n",
    "text= file.read()\n",
    "text"
   ]
  },
  {
   "cell_type": "code",
   "execution_count": 4,
   "metadata": {},
   "outputs": [
    {
     "data": {
      "text/plain": [
       "str"
      ]
     },
     "execution_count": 4,
     "metadata": {},
     "output_type": "execute_result"
    }
   ],
   "source": [
    "type (text)"
   ]
  },
  {
   "cell_type": "code",
   "execution_count": 5,
   "metadata": {},
   "outputs": [],
   "source": [
    "import pandas as pd"
   ]
  },
  {
   "cell_type": "code",
   "execution_count": null,
   "metadata": {},
   "outputs": [],
   "source": [
    "pd.read_csv(text)"
   ]
  },
  {
   "cell_type": "code",
   "execution_count": null,
   "metadata": {},
   "outputs": [],
   "source": []
  }
 ],
 "metadata": {
  "kernelspec": {
   "display_name": "Python 3.9.12 ('base')",
   "language": "python",
   "name": "python3"
  },
  "language_info": {
   "codemirror_mode": {
    "name": "ipython",
    "version": 3
   },
   "file_extension": ".py",
   "mimetype": "text/x-python",
   "name": "python",
   "nbconvert_exporter": "python",
   "pygments_lexer": "ipython3",
   "version": "3.9.12"
  },
  "orig_nbformat": 4,
  "vscode": {
   "interpreter": {
    "hash": "367d28e31e7a52eba77a2daf5aac0b8141c7fb1fe010869a01b64def5edb5471"
   }
  }
 },
 "nbformat": 4,
 "nbformat_minor": 2
}
