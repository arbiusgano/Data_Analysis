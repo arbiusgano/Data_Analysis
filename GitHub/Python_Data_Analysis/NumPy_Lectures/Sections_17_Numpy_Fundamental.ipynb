{
 "cells": [
  {
   "cell_type": "code",
   "execution_count": 1,
   "metadata": {},
   "outputs": [],
   "source": [
    "import pandas as pd\n",
    "import numpy as np"
   ]
  },
  {
   "cell_type": "code",
   "execution_count": 2,
   "metadata": {},
   "outputs": [],
   "source": [
    "dataframe = pd.read_csv(\"./simple_csv.csv\")"
   ]
  },
  {
   "cell_type": "code",
   "execution_count": 3,
   "metadata": {},
   "outputs": [
    {
     "data": {
      "text/plain": [
       "array([[0.28092541, 0.91036848, 0.69298188],\n",
       "       [0.71988236, 0.21002407, 0.7612759 ],\n",
       "       [0.23575208, 0.0597963 , 0.1546666 ],\n",
       "       [0.60336627, 0.48561397, 0.01334502],\n",
       "       [0.03998475, 0.23635865, 0.81183165],\n",
       "       [0.01547756, 0.54364108, 0.11271945],\n",
       "       [0.19253954, 0.40987429, 0.87508246],\n",
       "       [0.3809206 , 0.04546771, 0.5158594 ],\n",
       "       [0.59247137, 0.78642122, 0.04724929],\n",
       "       [0.07211205, 0.69569385, 0.4095732 ],\n",
       "       [0.89807238, 0.07095587, 0.20902018],\n",
       "       [0.72203752, 0.21198538, 0.32416377],\n",
       "       [0.51351671, 0.09154813, 0.66427856],\n",
       "       [0.43672924, 0.04032155, 0.54816704],\n",
       "       [0.86403942, 0.96355627, 0.10639842],\n",
       "       [0.72476104, 0.41042245, 0.58758877],\n",
       "       [0.19892576, 0.24520742, 0.76735595],\n",
       "       [0.74849989, 0.01926363, 0.04667836],\n",
       "       [0.92063933, 0.21261146, 0.52046319],\n",
       "       [0.45202421, 0.12366004, 0.84745113],\n",
       "       [0.54297722, 0.2658523 , 0.41092586],\n",
       "       [0.35526598, 0.86061556, 0.58943068],\n",
       "       [0.14268816, 0.40645578, 0.20409459],\n",
       "       [0.85043648, 0.12942629, 0.71902732],\n",
       "       [0.44347576, 0.38896746, 0.59692352],\n",
       "       [0.46710041, 0.41690809, 0.09803679],\n",
       "       [0.33853585, 0.93581422, 0.73689886],\n",
       "       [0.94210097, 0.77200456, 0.44157427],\n",
       "       [0.57012999, 0.78008526, 0.08559159]])"
      ]
     },
     "execution_count": 3,
     "metadata": {},
     "output_type": "execute_result"
    }
   ],
   "source": [
    "dataframe.to_numpy()"
   ]
  },
  {
   "cell_type": "code",
   "execution_count": 6,
   "metadata": {},
   "outputs": [],
   "source": [
    "dataframe_array = dataframe.to_numpy()"
   ]
  },
  {
   "cell_type": "code",
   "execution_count": 8,
   "metadata": {},
   "outputs": [
    {
     "data": {
      "text/plain": [
       "array([[0.28092541, 0.91036848, 0.69298188],\n",
       "       [0.71988236, 0.21002407, 0.7612759 ],\n",
       "       [0.23575208, 0.0597963 , 0.1546666 ],\n",
       "       [0.60336627, 0.48561397, 0.01334502],\n",
       "       [0.03998475, 0.23635865, 0.81183165],\n",
       "       [0.01547756, 0.54364108, 0.11271945],\n",
       "       [0.19253954, 0.40987429, 0.87508246],\n",
       "       [0.3809206 , 0.04546771, 0.5158594 ],\n",
       "       [0.59247137, 0.78642122, 0.04724929],\n",
       "       [0.07211205, 0.69569385, 0.4095732 ],\n",
       "       [0.89807238, 0.07095587, 0.20902018],\n",
       "       [0.72203752, 0.21198538, 0.32416377],\n",
       "       [0.51351671, 0.09154813, 0.66427856],\n",
       "       [0.43672924, 0.04032155, 0.54816704],\n",
       "       [0.86403942, 0.96355627, 0.10639842],\n",
       "       [0.72476104, 0.41042245, 0.58758877],\n",
       "       [0.19892576, 0.24520742, 0.76735595],\n",
       "       [0.74849989, 0.01926363, 0.04667836],\n",
       "       [0.92063933, 0.21261146, 0.52046319],\n",
       "       [0.45202421, 0.12366004, 0.84745113],\n",
       "       [0.54297722, 0.2658523 , 0.41092586],\n",
       "       [0.35526598, 0.86061556, 0.58943068],\n",
       "       [0.14268816, 0.40645578, 0.20409459],\n",
       "       [0.85043648, 0.12942629, 0.71902732],\n",
       "       [0.44347576, 0.38896746, 0.59692352],\n",
       "       [0.46710041, 0.41690809, 0.09803679],\n",
       "       [0.33853585, 0.93581422, 0.73689886],\n",
       "       [0.94210097, 0.77200456, 0.44157427],\n",
       "       [0.57012999, 0.78008526, 0.08559159]])"
      ]
     },
     "execution_count": 8,
     "metadata": {},
     "output_type": "execute_result"
    }
   ],
   "source": [
    "dataframe_array"
   ]
  },
  {
   "cell_type": "code",
   "execution_count": 11,
   "metadata": {},
   "outputs": [
    {
     "data": {
      "text/plain": [
       "array([[0.23575208, 0.0597963 , 0.1546666 ],\n",
       "       [0.03998475, 0.23635865, 0.81183165],\n",
       "       [0.19253954, 0.40987429, 0.87508246]])"
      ]
     },
     "execution_count": 11,
     "metadata": {},
     "output_type": "execute_result"
    }
   ],
   "source": [
    "dataframe_array[[2,4,6]] ## Kalau spesifik value | sama kayak yg di pandas iloc"
   ]
  },
  {
   "cell_type": "code",
   "execution_count": 15,
   "metadata": {},
   "outputs": [
    {
     "data": {
      "text/plain": [
       "0.154666599"
      ]
     },
     "execution_count": 15,
     "metadata": {},
     "output_type": "execute_result"
    }
   ],
   "source": [
    "dataframe_array[2][2] ## Kita mau cari row 2 dari kolom 2 ** Ingat Python perhitungan dimulai dari 0"
   ]
  },
  {
   "cell_type": "markdown",
   "metadata": {},
   "source": [
    "## Assigning Values in NumPy"
   ]
  },
  {
   "cell_type": "code",
   "execution_count": 17,
   "metadata": {},
   "outputs": [],
   "source": [
    "array_np = np.array([[12,34,56],[34,56,78]])"
   ]
  },
  {
   "cell_type": "code",
   "execution_count": 18,
   "metadata": {},
   "outputs": [
    {
     "data": {
      "text/plain": [
       "array([[12, 34, 56],\n",
       "       [34, 56, 78]])"
      ]
     },
     "execution_count": 18,
     "metadata": {},
     "output_type": "execute_result"
    }
   ],
   "source": [
    "array_np"
   ]
  },
  {
   "cell_type": "code",
   "execution_count": 21,
   "metadata": {},
   "outputs": [
    {
     "data": {
      "text/plain": [
       "array([[12, 34,  5],\n",
       "       [34, 56, 78]])"
      ]
     },
     "execution_count": 21,
     "metadata": {},
     "output_type": "execute_result"
    }
   ],
   "source": [
    "array_np [0,2]=5 ## Ngubah isi array disini mau ngubah 34 jadi 5\n",
    "array_np"
   ]
  },
  {
   "cell_type": "code",
   "execution_count": 24,
   "metadata": {},
   "outputs": [
    {
     "data": {
      "text/plain": [
       "array([[12, 34,  5],\n",
       "       [12, 12, 12]])"
      ]
     },
     "execution_count": 24,
     "metadata": {},
     "output_type": "execute_result"
    }
   ],
   "source": [
    "array_np [1] = 12 ## Kita ngubah baris ke dua jadi 12 semua jadi hati2 saat mengubah harus teliti\n",
    "array_np"
   ]
  },
  {
   "cell_type": "code",
   "execution_count": 27,
   "metadata": {},
   "outputs": [
    {
     "data": {
      "text/plain": [
       "array([[25, 34,  5],\n",
       "       [25, 12, 12]])"
      ]
     },
     "execution_count": 27,
     "metadata": {},
     "output_type": "execute_result"
    }
   ],
   "source": [
    "array_np[:,0] = 25 ## Ngubah kolom 0 jadi 25 semua\n",
    "array_np"
   ]
  },
  {
   "cell_type": "code",
   "execution_count": 29,
   "metadata": {},
   "outputs": [],
   "source": [
    "list_a = np.array([3,4,5])"
   ]
  },
  {
   "cell_type": "code",
   "execution_count": 30,
   "metadata": {},
   "outputs": [
    {
     "data": {
      "text/plain": [
       "array([3, 4, 5])"
      ]
     },
     "execution_count": 30,
     "metadata": {},
     "output_type": "execute_result"
    }
   ],
   "source": [
    "list_a"
   ]
  },
  {
   "cell_type": "code",
   "execution_count": 35,
   "metadata": {},
   "outputs": [
    {
     "data": {
      "text/plain": [
       "array([[25, 34,  5],\n",
       "       [ 3,  4,  5]])"
      ]
     },
     "execution_count": 35,
     "metadata": {},
     "output_type": "execute_result"
    }
   ],
   "source": [
    "array_np[1] = list_a ## Kita mau ngubah isi array yang baris 1 dengan isi dari list_a\n",
    "array_np"
   ]
  },
  {
   "cell_type": "markdown",
   "metadata": {},
   "source": [
    "## Elementwise Properties of Arrays"
   ]
  },
  {
   "cell_type": "code",
   "execution_count": 36,
   "metadata": {},
   "outputs": [
    {
     "data": {
      "text/plain": [
       "array([[25, 34,  5],\n",
       "       [ 3,  4,  5]])"
      ]
     },
     "execution_count": 36,
     "metadata": {},
     "output_type": "execute_result"
    }
   ],
   "source": [
    "array_np"
   ]
  },
  {
   "cell_type": "code",
   "execution_count": 37,
   "metadata": {},
   "outputs": [
    {
     "data": {
      "text/plain": [
       "array([[30, 39, 10],\n",
       "       [ 8,  9, 10]])"
      ]
     },
     "execution_count": 37,
     "metadata": {},
     "output_type": "execute_result"
    }
   ],
   "source": [
    "array_np + 5 ## Disini kita bisa nambah 5 ke semua isi dari array"
   ]
  },
  {
   "cell_type": "code",
   "execution_count": 38,
   "metadata": {},
   "outputs": [
    {
     "data": {
      "text/plain": [
       "array([[ 625, 1156,   25],\n",
       "       [   9,   16,   25]], dtype=int32)"
      ]
     },
     "execution_count": 38,
     "metadata": {},
     "output_type": "execute_result"
    }
   ],
   "source": [
    "array_np ** 2 ## Bisa juga matematic operations yang lainnya misalnya pangkat"
   ]
  },
  {
   "cell_type": "code",
   "execution_count": 43,
   "metadata": {},
   "outputs": [
    {
     "data": {
      "text/plain": [
       "array([[12.5, 17. ,  2.5],\n",
       "       [ 1.5,  2. ,  2.5]])"
      ]
     },
     "execution_count": 43,
     "metadata": {},
     "output_type": "execute_result"
    }
   ],
   "source": [
    "array_np /2"
   ]
  },
  {
   "cell_type": "code",
   "execution_count": 42,
   "metadata": {},
   "outputs": [
    {
     "data": {
      "text/plain": [
       "array([[25, 34,  5],\n",
       "       [ 3,  4,  5]])"
      ]
     },
     "execution_count": 42,
     "metadata": {},
     "output_type": "execute_result"
    }
   ],
   "source": [
    "array_np "
   ]
  },
  {
   "cell_type": "code",
   "execution_count": 45,
   "metadata": {},
   "outputs": [
    {
     "data": {
      "text/plain": [
       "array([[62.5, 85. , 12.5],\n",
       "       [ 7.5, 10. , 12.5]])"
      ]
     },
     "execution_count": 45,
     "metadata": {},
     "output_type": "execute_result"
    }
   ],
   "source": [
    "array_np * 5 /2 ## Bisa lebih dari satu dicoba aja yang lainnya"
   ]
  },
  {
   "cell_type": "code",
   "execution_count": 46,
   "metadata": {},
   "outputs": [],
   "source": [
    "array_np_b = array_np * 5 /2"
   ]
  },
  {
   "cell_type": "code",
   "execution_count": 47,
   "metadata": {},
   "outputs": [
    {
     "data": {
      "text/plain": [
       "array([[ 87.5, 119. ,  17.5],\n",
       "       [ 10.5,  14. ,  17.5]])"
      ]
     },
     "execution_count": 47,
     "metadata": {},
     "output_type": "execute_result"
    }
   ],
   "source": [
    "array_np + array_np_b ## Bisa juga nambah dari 2 array yang berbeda"
   ]
  },
  {
   "cell_type": "markdown",
   "metadata": {},
   "source": [
    "## Kalau mau nambah dari 1 atau dua baris array ke array yang banyak tinggal di kasih tanda [] buat spesifikan yang mau di ubah"
   ]
  },
  {
   "cell_type": "code",
   "execution_count": 50,
   "metadata": {},
   "outputs": [
    {
     "data": {
      "text/plain": [
       "array([[1, 2, 3],\n",
       "       [3, 3, 4]])"
      ]
     },
     "execution_count": 50,
     "metadata": {},
     "output_type": "execute_result"
    }
   ],
   "source": [
    "array_a = np.array([[1,2,3],[3,3,4]])\n",
    "array_a"
   ]
  },
  {
   "cell_type": "code",
   "execution_count": 52,
   "metadata": {},
   "outputs": [
    {
     "data": {
      "text/plain": [
       "array([12, 34, 56])"
      ]
     },
     "execution_count": 52,
     "metadata": {},
     "output_type": "execute_result"
    }
   ],
   "source": [
    "array_b = np.array([12,34,56])\n",
    "array_b"
   ]
  },
  {
   "cell_type": "code",
   "execution_count": 53,
   "metadata": {},
   "outputs": [
    {
     "data": {
      "text/plain": [
       "array([13, 36, 59])"
      ]
     },
     "execution_count": 53,
     "metadata": {},
     "output_type": "execute_result"
    }
   ],
   "source": [
    "array_b + array_a [0] ## Ini contohnya "
   ]
  },
  {
   "cell_type": "code",
   "execution_count": 54,
   "metadata": {},
   "outputs": [
    {
     "data": {
      "text/plain": [
       "array([13, 36, 59])"
      ]
     },
     "execution_count": 54,
     "metadata": {},
     "output_type": "execute_result"
    }
   ],
   "source": [
    "array_ab = array_b + array_a [0]\n",
    "array_ab "
   ]
  },
  {
   "cell_type": "code",
   "execution_count": 56,
   "metadata": {},
   "outputs": [],
   "source": [
    "array_a[0]=array_ab ## Ini kalau mau masukin yg sdh di tambah td ke array_a"
   ]
  },
  {
   "cell_type": "code",
   "execution_count": 58,
   "metadata": {},
   "outputs": [
    {
     "data": {
      "text/plain": [
       "array([[13, 36, 59],\n",
       "       [ 3,  3,  4]])"
      ]
     },
     "execution_count": 58,
     "metadata": {},
     "output_type": "execute_result"
    }
   ],
   "source": [
    "array_a ## Syaratnya panjang/ jumlah harus sama antar dua array"
   ]
  },
  {
   "cell_type": "code",
   "execution_count": 59,
   "metadata": {},
   "outputs": [
    {
     "data": {
      "text/plain": [
       "array([[ 26,  72, 118],\n",
       "       [ 16,  39,  63]])"
      ]
     },
     "execution_count": 59,
     "metadata": {},
     "output_type": "execute_result"
    }
   ],
   "source": [
    "array_a + array_ab ## bisa juga semua isi dari array "
   ]
  },
  {
   "cell_type": "markdown",
   "metadata": {},
   "source": [
    "## Types of data supported by numpy"
   ]
  },
  {
   "cell_type": "code",
   "execution_count": null,
   "metadata": {},
   "outputs": [],
   "source": []
  },
  {
   "cell_type": "markdown",
   "metadata": {},
   "source": [
    "## Characteristics of NumPy Functions Part 1\n",
    "\n",
    "## universal fungtions\n",
    " ### bekerja dengan ndarray pada elemen demi elemen\n",
    " ### an extensions of the elementwise operations\n",
    " ### operasi matematika, fungsi trigonometri, fungsi perbandingan\n",
    " ### broadcasting, type casting computing over a given axis"
   ]
  },
  {
   "cell_type": "code",
   "execution_count": null,
   "metadata": {},
   "outputs": [],
   "source": [
    "## universal fungtions\n",
    " ### bekerja dengan ndarray pada elemen demi elemen\n",
    " ### an extensions of the elementwise operations\n",
    " ### operasi matematika, fungsi trigonometri, fungsi perbandingan\n",
    " ### broadcasting, type casting computing over a given axis"
   ]
  },
  {
   "cell_type": "markdown",
   "metadata": {},
   "source": [
    "### Broadcasting"
   ]
  },
  {
   "cell_type": "code",
   "execution_count": 64,
   "metadata": {},
   "outputs": [
    {
     "data": {
      "text/plain": [
       "array([1, 2, 3, 4])"
      ]
     },
     "execution_count": 64,
     "metadata": {},
     "output_type": "execute_result"
    }
   ],
   "source": [
    "array_x = np.array([1,2,3,4])\n",
    "array_x"
   ]
  },
  {
   "cell_type": "code",
   "execution_count": 61,
   "metadata": {},
   "outputs": [
    {
     "data": {
      "text/plain": [
       "array([[1],\n",
       "       [2]])"
      ]
     },
     "execution_count": 61,
     "metadata": {},
     "output_type": "execute_result"
    }
   ],
   "source": [
    "array_y = np.array([[1],[2]])\n",
    "array_y"
   ]
  },
  {
   "cell_type": "code",
   "execution_count": 62,
   "metadata": {},
   "outputs": [
    {
     "data": {
      "text/plain": [
       "array([[1, 2, 3, 4],\n",
       "       [5, 6, 7, 8]])"
      ]
     },
     "execution_count": 62,
     "metadata": {},
     "output_type": "execute_result"
    }
   ],
   "source": [
    "array_z = np.array ([[1,2,3,4],[5,6,7,8]])\n",
    "array_z"
   ]
  },
  {
   "cell_type": "markdown",
   "metadata": {},
   "source": [
    "## Pengertian Broadcasting\n",
    "\n",
    "#### Broadcasting adalah salah satu konsep terpenting dalam NumPy. Setelah sebelumnya kita belajar tentang struktur data, indexing (view), indexing (copy), dan vektorisasi, tibalah saatnya kita mempelajari konsep kelima: Broadcasting. Secara sederhana, konsep broadcasting sama dengan istilah broadcasting di bidang lain. Misalnya pada aplikasi pesan melalui Whatsapp, broadcasting pada aplikasi tersebut berarti mengirim pesan pada semua akun yang ada di daftar kontak kita. Pada NumPy array, broadcasting juga berlaku demikan. Nilai (misal: array 1x2) yang dikalikan pada array vektor (4x1), maka setiap elemen vektor tersebut akan dikalikan dengan nilai tadi (array 1x2).\n",
    "\n"
   ]
  },
  {
   "cell_type": "code",
   "execution_count": 66,
   "metadata": {},
   "outputs": [
    {
     "data": {
      "text/plain": [
       "array([[ 2,  4,  6,  8],\n",
       "       [ 6,  8, 10, 12]])"
      ]
     },
     "execution_count": 66,
     "metadata": {},
     "output_type": "execute_result"
    }
   ],
   "source": [
    "np.add(array_x,array_z) ## Halisnya menjadi array_x ditambahkan ke array_z meskipun strukturnya berbeda karena di broadcasting"
   ]
  },
  {
   "cell_type": "markdown",
   "metadata": {},
   "source": [
    "### Type Fungtions"
   ]
  },
  {
   "cell_type": "code",
   "execution_count": 67,
   "metadata": {},
   "outputs": [
    {
     "data": {
      "text/plain": [
       "array([[ 2.,  4.,  6.,  8.],\n",
       "       [ 6.,  8., 10., 12.]])"
      ]
     },
     "execution_count": 67,
     "metadata": {},
     "output_type": "execute_result"
    }
   ],
   "source": [
    "np.add(array_x,array_z, dtype=float) ## Ngubang type datanya | Jadi float dsini kasusnya"
   ]
  },
  {
   "cell_type": "markdown",
   "metadata": {},
   "source": [
    "### Running over an axis"
   ]
  },
  {
   "cell_type": "code",
   "execution_count": 69,
   "metadata": {},
   "outputs": [
    {
     "data": {
      "text/plain": [
       "array([[1, 2, 3, 4],\n",
       "       [5, 6, 7, 8]])"
      ]
     },
     "execution_count": 69,
     "metadata": {},
     "output_type": "execute_result"
    }
   ],
   "source": [
    "array_z"
   ]
  },
  {
   "cell_type": "code",
   "execution_count": 68,
   "metadata": {},
   "outputs": [
    {
     "data": {
      "text/plain": [
       "array([3., 4., 5., 6.])"
      ]
     },
     "execution_count": 68,
     "metadata": {},
     "output_type": "execute_result"
    }
   ],
   "source": [
    "np.mean(array_z, axis= 0) ## axiy = 0 artinya menemukan mean atau nilai tengah dari setiap dataframe/array"
   ]
  },
  {
   "cell_type": "code",
   "execution_count": 70,
   "metadata": {},
   "outputs": [
    {
     "data": {
      "text/plain": [
       "array([2.5, 6.5])"
      ]
     },
     "execution_count": 70,
     "metadata": {},
     "output_type": "execute_result"
    }
   ],
   "source": [
    "np.mean(array_z, axis=1) ## axis = 1 menemukan nilai mean dari setiap baris"
   ]
  },
  {
   "cell_type": "code",
   "execution_count": null,
   "metadata": {},
   "outputs": [],
   "source": [
    "S"
   ]
  }
 ],
 "metadata": {
  "kernelspec": {
   "display_name": "Python 3.9.12 ('base')",
   "language": "python",
   "name": "python3"
  },
  "language_info": {
   "codemirror_mode": {
    "name": "ipython",
    "version": 3
   },
   "file_extension": ".py",
   "mimetype": "text/x-python",
   "name": "python",
   "nbconvert_exporter": "python",
   "pygments_lexer": "ipython3",
   "version": "3.9.12"
  },
  "orig_nbformat": 4,
  "vscode": {
   "interpreter": {
    "hash": "367d28e31e7a52eba77a2daf5aac0b8141c7fb1fe010869a01b64def5edb5471"
   }
  }
 },
 "nbformat": 4,
 "nbformat_minor": 2
}
