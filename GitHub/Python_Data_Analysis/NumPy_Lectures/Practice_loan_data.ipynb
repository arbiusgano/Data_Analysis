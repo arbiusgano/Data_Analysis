{
 "cells": [
  {
   "cell_type": "markdown",
   "metadata": {},
   "source": [
    "## Import Packages"
   ]
  },
  {
   "cell_type": "code",
   "execution_count": 11,
   "metadata": {},
   "outputs": [],
   "source": [
    "import pandas as pd\n",
    "import numpy as np"
   ]
  },
  {
   "cell_type": "code",
   "execution_count": 12,
   "metadata": {},
   "outputs": [],
   "source": [
    "np.set_printoptions(suppress= True, linewidth=100, precision=2)"
   ]
  },
  {
   "cell_type": "code",
   "execution_count": 13,
   "metadata": {},
   "outputs": [
    {
     "data": {
      "text/plain": [
       "array([[        nan,         nan,         nan, ...,         nan,         nan,         nan],\n",
       "       [48010226.  ,         nan,    35000.  , ...,         nan,         nan,     9452.96],\n",
       "       [57693261.  ,         nan,    30000.  , ...,         nan,         nan,     4679.7 ],\n",
       "       ...,\n",
       "       [50415990.  ,         nan,    10000.  , ...,         nan,         nan,     2185.64],\n",
       "       [46154151.  ,         nan,         nan, ...,         nan,         nan,     3199.4 ],\n",
       "       [66055249.  ,         nan,    10000.  , ...,         nan,         nan,      301.9 ]])"
      ]
     },
     "execution_count": 13,
     "metadata": {},
     "output_type": "execute_result"
    }
   ],
   "source": [
    "## Ada Missing Values\n",
    "raw_data = np.genfromtxt(\"./loan-data.csv\", delimiter=\";\")\n",
    "raw_data"
   ]
  },
  {
   "cell_type": "code",
   "execution_count": 14,
   "metadata": {},
   "outputs": [
    {
     "data": {
      "text/plain": [
       "array([[48010226.  ,         nan,    35000.  , ...,         nan,         nan,     9452.96],\n",
       "       [57693261.  ,         nan,    30000.  , ...,         nan,         nan,     4679.7 ],\n",
       "       [59432726.  ,         nan,    15000.  , ...,         nan,         nan,     1969.83],\n",
       "       ...,\n",
       "       [50415990.  ,         nan,    10000.  , ...,         nan,         nan,     2185.64],\n",
       "       [46154151.  ,         nan,         nan, ...,         nan,         nan,     3199.4 ],\n",
       "       [66055249.  ,         nan,    10000.  , ...,         nan,         nan,      301.9 ]])"
      ]
     },
     "execution_count": 14,
     "metadata": {},
     "output_type": "execute_result"
    }
   ],
   "source": [
    "## Hapus Header(nama kolom) dan Space diantaranya\n",
    "raw_data = np.genfromtxt(\"./loan-data.csv\", delimiter=\";\",skip_header=1, autostrip=True)\n",
    "raw_data"
   ]
  },
  {
   "cell_type": "markdown",
   "metadata": {},
   "source": [
    "## Check Data Yang mising"
   ]
  },
  {
   "cell_type": "code",
   "execution_count": 15,
   "metadata": {},
   "outputs": [
    {
     "data": {
      "text/plain": [
       "(10000, 14)"
      ]
     },
     "execution_count": 15,
     "metadata": {},
     "output_type": "execute_result"
    }
   ],
   "source": [
    "raw_data.shape"
   ]
  },
  {
   "cell_type": "code",
   "execution_count": 16,
   "metadata": {},
   "outputs": [
    {
     "data": {
      "text/plain": [
       "88005"
      ]
     },
     "execution_count": 16,
     "metadata": {},
     "output_type": "execute_result"
    }
   ],
   "source": [
    "## Cek Jumlah Data Yang Missing Totalnya Ada 88.005 dari 140.000 \n",
    "np.isnan(raw_data).sum()"
   ]
  },
  {
   "cell_type": "markdown",
   "metadata": {},
   "source": [
    "## Bikin Dua Variabel Buat Ngisi Missing Data"
   ]
  },
  {
   "cell_type": "code",
   "execution_count": 17,
   "metadata": {},
   "outputs": [
    {
     "name": "stderr",
     "output_type": "stream",
     "text": [
      "C:\\Users\\ganoa\\AppData\\Local\\Temp\\ipykernel_9656\\2184448722.py:2: RuntimeWarning: Mean of empty slice\n",
      "  temporary_mean = np.nanmean(raw_data, axis=0) ## Mean Buat Semua Kolom\n"
     ]
    }
   ],
   "source": [
    "temporary_fill = np.nanmax(raw_data) + 1 ## Buat Ngisi Data Yang Kosong\n",
    "temporary_mean = np.nanmean(raw_data, axis=0) ## Mean Buat Semua Kolom"
   ]
  },
  {
   "cell_type": "code",
   "execution_count": 18,
   "metadata": {},
   "outputs": [
    {
     "data": {
      "text/plain": [
       "array([54015809.19,         nan,    15273.46,         nan,    15311.04,         nan,       16.62,\n",
       "            440.92,         nan,         nan,         nan,         nan,         nan,     3143.85])"
      ]
     },
     "execution_count": 18,
     "metadata": {},
     "output_type": "execute_result"
    }
   ],
   "source": [
    "temporary_mean"
   ]
  },
  {
   "cell_type": "code",
   "execution_count": 19,
   "metadata": {},
   "outputs": [
    {
     "name": "stderr",
     "output_type": "stream",
     "text": [
      "C:\\Users\\ganoa\\AppData\\Local\\Temp\\ipykernel_9656\\1113361446.py:1: RuntimeWarning: All-NaN slice encountered\n",
      "  temporary_stats = np.array([np.nanmin(raw_data, axis= 0), temporary_mean, np.nanmax(raw_data, axis= 0)])\n"
     ]
    }
   ],
   "source": [
    "temporary_stats = np.array([np.nanmin(raw_data, axis= 0), temporary_mean, np.nanmax(raw_data, axis= 0)])"
   ]
  },
  {
   "cell_type": "code",
   "execution_count": 20,
   "metadata": {},
   "outputs": [
    {
     "data": {
      "text/plain": [
       "array([[  373332.  ,         nan,     1000.  ,         nan,     1000.  ,         nan,        6.  ,\n",
       "              31.42,         nan,         nan,         nan,         nan,         nan,        0.  ],\n",
       "       [54015809.19,         nan,    15273.46,         nan,    15311.04,         nan,       16.62,\n",
       "             440.92,         nan,         nan,         nan,         nan,         nan,     3143.85],\n",
       "       [68616519.  ,         nan,    35000.  ,         nan,    35000.  ,         nan,       28.99,\n",
       "            1372.97,         nan,         nan,         nan,         nan,         nan,    41913.62]])"
      ]
     },
     "execution_count": 20,
     "metadata": {},
     "output_type": "execute_result"
    }
   ],
   "source": [
    "temporary_stats"
   ]
  },
  {
   "cell_type": "markdown",
   "metadata": {},
   "source": [
    "## Splitting The Dataset"
   ]
  },
  {
   "cell_type": "code",
   "execution_count": 21,
   "metadata": {},
   "outputs": [
    {
     "data": {
      "text/plain": [
       "array([ 1,  3,  5,  8,  9, 10, 11, 12], dtype=int64)"
      ]
     },
     "execution_count": 21,
     "metadata": {},
     "output_type": "execute_result"
    }
   ],
   "source": [
    "## Cara Biar Tau Yang Mana Text Data + Squeeze Biar Datanya Datar\n",
    "collum_string = np.argwhere(np.isnan(temporary_mean)).squeeze()\n",
    "collum_string\n",
    "\n",
    "## Diperoleh Kolom 1,3,5,8,9,10,11,12 Isinya adalah text/string"
   ]
  },
  {
   "cell_type": "code",
   "execution_count": 22,
   "metadata": {},
   "outputs": [
    {
     "data": {
      "text/plain": [
       "array([ 0,  2,  4,  6,  7, 13], dtype=int64)"
      ]
     },
     "execution_count": 22,
     "metadata": {},
     "output_type": "execute_result"
    }
   ],
   "source": [
    "## Cara Biar Tau Yang Mana Numeric Data\n",
    "collum_numeric = np.argwhere(np.isnan(temporary_mean)== False).squeeze()\n",
    "collum_numeric\n",
    "\n",
    "## Diperoleh Kolom 0,2,4,6,7,13 Isinya adalah numeric"
   ]
  },
  {
   "cell_type": "markdown",
   "metadata": {},
   "source": [
    "## Import Ulang Data"
   ]
  },
  {
   "cell_type": "code",
   "execution_count": 23,
   "metadata": {},
   "outputs": [
    {
     "data": {
      "text/plain": [
       "array([[b'May-15', b'Current', b'36 months', ..., b'Verified',\n",
       "        b'https://www.lendingclub.com/browse/loanDetail.action?loan_id=48010226', b'CA'],\n",
       "       [b'', b'Current', b'36 months', ..., b'Source Verified',\n",
       "        b'https://www.lendingclub.com/browse/loanDetail.action?loan_id=57693261', b'NY'],\n",
       "       [b'Sep-15', b'Current', b'36 months', ..., b'Verified',\n",
       "        b'https://www.lendingclub.com/browse/loanDetail.action?loan_id=59432726', b'PA'],\n",
       "       ...,\n",
       "       [b'Jun-15', b'Current', b'36 months', ..., b'Source Verified',\n",
       "        b'https://www.lendingclub.com/browse/loanDetail.action?loan_id=50415990', b'CA'],\n",
       "       [b'Apr-15', b'Current', b'36 months', ..., b'Source Verified',\n",
       "        b'https://www.lendingclub.com/browse/loanDetail.action?loan_id=46154151', b'OH'],\n",
       "       [b'Dec-15', b'Current', b'36 months', ..., b'',\n",
       "        b'https://www.lendingclub.com/browse/loanDetail.action?loan_id=66055249', b'IL']],\n",
       "      dtype='|S69')"
      ]
     },
     "execution_count": 23,
     "metadata": {},
     "output_type": "execute_result"
    }
   ],
   "source": [
    "## Dataset-nya menjadi 2 String dan Numeric - Yg ini string\n",
    "loan_data_string = np.genfromtxt(\"./loan-data.csv\", \n",
    "                   delimiter=\";\",\n",
    "                   skip_header=1, \n",
    "                   autostrip=True,\n",
    "                   usecols= collum_string, \n",
    "                   dtype=np.string_)\n",
    "loan_data_string"
   ]
  },
  {
   "cell_type": "code",
   "execution_count": 24,
   "metadata": {},
   "outputs": [
    {
     "data": {
      "text/plain": [
       "array([[48010226.  ,    35000.  ,    35000.  ,       13.33,     1184.86,     9452.96],\n",
       "       [57693261.  ,    30000.  ,    30000.  , 68616520.  ,      938.57,     4679.7 ],\n",
       "       [59432726.  ,    15000.  ,    15000.  , 68616520.  ,      494.86,     1969.83],\n",
       "       ...,\n",
       "       [50415990.  ,    10000.  ,    10000.  , 68616520.  , 68616520.  ,     2185.64],\n",
       "       [46154151.  , 68616520.  ,    10000.  ,       16.55,      354.3 ,     3199.4 ],\n",
       "       [66055249.  ,    10000.  ,    10000.  , 68616520.  ,      309.97,      301.9 ]])"
      ]
     },
     "execution_count": 24,
     "metadata": {},
     "output_type": "execute_result"
    }
   ],
   "source": [
    "## Dataset-nya menjadi 2 String dan Numeric - Yg ini numeric\n",
    "loan_data_numeric = np.genfromtxt(\"./loan-data.csv\", \n",
    "                    delimiter=\";\",skip_header=1, \n",
    "                    autostrip=True,\n",
    "                    usecols= collum_numeric,\n",
    "                    filling_values=temporary_fill)\n",
    "loan_data_numeric"
   ]
  },
  {
   "cell_type": "markdown",
   "metadata": {},
   "source": [
    "## Nama Dari Kolom"
   ]
  },
  {
   "cell_type": "code",
   "execution_count": 25,
   "metadata": {},
   "outputs": [],
   "source": [
    "raw_data = np.genfromtxt(\"./loan-data.csv\", delimiter=\";\",skip_header=1, autostrip=True)"
   ]
  },
  {
   "cell_type": "code",
   "execution_count": 26,
   "metadata": {},
   "outputs": [
    {
     "data": {
      "text/plain": [
       "array([b'id', b'issue_d', b'loan_amnt', b'loan_status', b'funded_amnt', b'term', b'int_rate',\n",
       "       b'installment', b'grade', b'sub_grade', b'verification_status', b'url', b'addr_state',\n",
       "       b'total_pymnt'], dtype='|S19')"
      ]
     },
     "execution_count": 26,
     "metadata": {},
     "output_type": "execute_result"
    }
   ],
   "source": [
    "## Yang dibuang Usecols, skip_header diganti Jadi Skip_footer=dataset pertama atau(raw_data)\n",
    "\n",
    "kolom_data = np.genfromtxt(\"./loan-data.csv\", \n",
    "                   delimiter=\";\",\n",
    "                   skip_footer=raw_data.shape[0], \n",
    "                   autostrip=True, \n",
    "                   dtype=np.string_)\n",
    "kolom_data"
   ]
  },
  {
   "cell_type": "code",
   "execution_count": 27,
   "metadata": {},
   "outputs": [],
   "source": [
    "kolom_data_string = kolom_data[collum_string]"
   ]
  },
  {
   "cell_type": "code",
   "execution_count": 28,
   "metadata": {},
   "outputs": [],
   "source": [
    "kolom_data_numeric = kolom_data[collum_numeric]"
   ]
  },
  {
   "cell_type": "code",
   "execution_count": 29,
   "metadata": {},
   "outputs": [
    {
     "data": {
      "text/plain": [
       "array([b'issue_d', b'loan_status', b'term', b'grade', b'sub_grade', b'verification_status', b'url',\n",
       "       b'addr_state'], dtype='|S19')"
      ]
     },
     "execution_count": 29,
     "metadata": {},
     "output_type": "execute_result"
    }
   ],
   "source": [
    "kolom_data_string"
   ]
  },
  {
   "cell_type": "code",
   "execution_count": 30,
   "metadata": {},
   "outputs": [
    {
     "data": {
      "text/plain": [
       "array([b'id', b'loan_amnt', b'funded_amnt', b'int_rate', b'installment', b'total_pymnt'],\n",
       "      dtype='|S19')"
      ]
     },
     "execution_count": 30,
     "metadata": {},
     "output_type": "execute_result"
    }
   ],
   "source": [
    "kolom_data_numeric"
   ]
  },
  {
   "cell_type": "markdown",
   "metadata": {},
   "source": [
    "## Preprocessing Dataset\n",
    "### Manupulating String Collum"
   ]
  },
  {
   "cell_type": "code",
   "execution_count": 31,
   "metadata": {},
   "outputs": [
    {
     "data": {
      "text/plain": [
       "array([b'issue_d', b'loan_status', b'term', b'grade', b'sub_grade', b'verification_status', b'url',\n",
       "       b'addr_state'], dtype='|S19')"
      ]
     },
     "execution_count": 31,
     "metadata": {},
     "output_type": "execute_result"
    }
   ],
   "source": [
    "kolom_data_string ## Disini kita ubah kolom 0 \"issue_d\" = \"Issue_date\" | Biar lebih bagus aja"
   ]
  },
  {
   "cell_type": "code",
   "execution_count": 34,
   "metadata": {},
   "outputs": [
    {
     "data": {
      "text/plain": [
       "array([b'issue_date', b'loan_status', b'term', b'grade', b'sub_grade', b'verification_status',\n",
       "       b'url', b'addr_state'], dtype='|S19')"
      ]
     },
     "execution_count": 34,
     "metadata": {},
     "output_type": "execute_result"
    }
   ],
   "source": [
    "kolom_data_string[0] = \"issue_date\" ## Data berhasil di update\n",
    "kolom_data_string"
   ]
  },
  {
   "cell_type": "code",
   "execution_count": 32,
   "metadata": {},
   "outputs": [
    {
     "data": {
      "text/plain": [
       "array([[b'May-15', b'Current', b'36 months', ..., b'Verified',\n",
       "        b'https://www.lendingclub.com/browse/loanDetail.action?loan_id=48010226', b'CA'],\n",
       "       [b'', b'Current', b'36 months', ..., b'Source Verified',\n",
       "        b'https://www.lendingclub.com/browse/loanDetail.action?loan_id=57693261', b'NY'],\n",
       "       [b'Sep-15', b'Current', b'36 months', ..., b'Verified',\n",
       "        b'https://www.lendingclub.com/browse/loanDetail.action?loan_id=59432726', b'PA'],\n",
       "       ...,\n",
       "       [b'Jun-15', b'Current', b'36 months', ..., b'Source Verified',\n",
       "        b'https://www.lendingclub.com/browse/loanDetail.action?loan_id=50415990', b'CA'],\n",
       "       [b'Apr-15', b'Current', b'36 months', ..., b'Source Verified',\n",
       "        b'https://www.lendingclub.com/browse/loanDetail.action?loan_id=46154151', b'OH'],\n",
       "       [b'Dec-15', b'Current', b'36 months', ..., b'',\n",
       "        b'https://www.lendingclub.com/browse/loanDetail.action?loan_id=66055249', b'IL']],\n",
       "      dtype='|S69')"
      ]
     },
     "execution_count": 32,
     "metadata": {},
     "output_type": "execute_result"
    }
   ],
   "source": [
    "loan_data_string "
   ]
  },
  {
   "cell_type": "markdown",
   "metadata": {},
   "source": [
    "## Issues Date"
   ]
  },
  {
   "cell_type": "code",
   "execution_count": 35,
   "metadata": {},
   "outputs": [
    {
     "data": {
      "text/plain": [
       "array([b'May-15', b'', b'Sep-15', ..., b'Jun-15', b'Apr-15', b'Dec-15'], dtype='|S69')"
      ]
     },
     "execution_count": 35,
     "metadata": {},
     "output_type": "execute_result"
    }
   ],
   "source": [
    "loan_data_string[:,0] ## Munculin kolom pertama saja"
   ]
  },
  {
   "cell_type": "code",
   "execution_count": 37,
   "metadata": {},
   "outputs": [
    {
     "data": {
      "text/plain": [
       "array([b'', b'Apr-15', b'Aug-15', b'Dec-15', b'Feb-15', b'Jan-15', b'Jul-15', b'Jun-15', b'Mar-15',\n",
       "       b'May-15', b'Nov-15', b'Oct-15', b'Sep-15'], dtype='|S69')"
      ]
     },
     "execution_count": 37,
     "metadata": {},
     "output_type": "execute_result"
    }
   ],
   "source": [
    "np.unique(loan_data_string[:,0]) ## np.unique buat cari data yang unik \n",
    "                                 ## Hanya ada 1 data yang berbeda yaitu baris pertama = \"\"/ Kosong"
   ]
  },
  {
   "cell_type": "code",
   "execution_count": 39,
   "metadata": {},
   "outputs": [],
   "source": [
    "## Kita mau ubah / buang angka 15 yang mewakili tahun biar datanya hanya bulan saja\n",
    "loan_data_string[:,0] =np.chararray.strip(loan_data_string[:,0],\"-15\") ## Jangan lupa kolom mana yang mau kita ubah"
   ]
  },
  {
   "cell_type": "code",
   "execution_count": 41,
   "metadata": {},
   "outputs": [
    {
     "data": {
      "text/plain": [
       "array([b'', b'Apr', b'Aug', b'Dec', b'Feb', b'Jan', b'Jul', b'Jun', b'Mar', b'May', b'Nov', b'Oct',\n",
       "       b'Sep'], dtype='|S69')"
      ]
     },
     "execution_count": 41,
     "metadata": {},
     "output_type": "execute_result"
    }
   ],
   "source": [
    "np.unique(loan_data_string[:,0]) ## Yup data sdh diupdate"
   ]
  },
  {
   "cell_type": "code",
   "execution_count": 47,
   "metadata": {},
   "outputs": [],
   "source": [
    "## Kita mau ubah bulannya menjadi angka\n",
    "mount = np.array(['','Jan','Feb','Mar','Apr','May','Jun','Jul','Aug','Sep','Oct','Nov','Dec'])"
   ]
  },
  {
   "cell_type": "code",
   "execution_count": 53,
   "metadata": {},
   "outputs": [],
   "source": [
    "## Buat For i loop\n",
    "for i in range(13):\n",
    "        loan_data_string[:,0] = np.where(loan_data_string[:,0] == mount[i],i,loan_data_string[:,0])"
   ]
  },
  {
   "cell_type": "code",
   "execution_count": 54,
   "metadata": {},
   "outputs": [
    {
     "data": {
      "text/plain": [
       "array([b'', b'Apr', b'Aug', b'Dec', b'Feb', b'Jan', b'Jul', b'Jun', b'Mar', b'May', b'Nov', b'Oct',\n",
       "       b'Sep'], dtype='|S69')"
      ]
     },
     "execution_count": 54,
     "metadata": {},
     "output_type": "execute_result"
    }
   ],
   "source": [
    "np.unique(loan_data_string[:,0])"
   ]
  },
  {
   "cell_type": "code",
   "execution_count": null,
   "metadata": {},
   "outputs": [],
   "source": []
  }
 ],
 "metadata": {
  "kernelspec": {
   "display_name": "Python 3.9.12 ('base')",
   "language": "python",
   "name": "python3"
  },
  "language_info": {
   "codemirror_mode": {
    "name": "ipython",
    "version": 3
   },
   "file_extension": ".py",
   "mimetype": "text/x-python",
   "name": "python",
   "nbconvert_exporter": "python",
   "pygments_lexer": "ipython3",
   "version": "3.9.12"
  },
  "orig_nbformat": 4,
  "vscode": {
   "interpreter": {
    "hash": "367d28e31e7a52eba77a2daf5aac0b8141c7fb1fe010869a01b64def5edb5471"
   }
  }
 },
 "nbformat": 4,
 "nbformat_minor": 2
}
