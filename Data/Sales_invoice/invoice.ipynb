{
 "cells": [
  {
   "cell_type": "markdown",
   "metadata": {},
   "source": [
    "# **Step by Step Python Pandas features with data cleaning and manipulation projects**"
   ]
  },
  {
   "cell_type": "code",
   "execution_count": 2,
   "metadata": {},
   "outputs": [],
   "source": [
    "import pandas as pd"
   ]
  },
  {
   "cell_type": "code",
   "execution_count": 3,
   "metadata": {},
   "outputs": [
    {
     "name": "stderr",
     "output_type": "stream",
     "text": [
      "C:\\Users\\ganoa\\AppData\\Local\\Temp\\ipykernel_2128\\3013929331.py:1: DeprecationWarning: Importing display from IPython.core.display is deprecated since IPython 7.14, please import from IPython display\n",
      "  from IPython.core.display import display, HTML\n"
     ]
    },
    {
     "data": {
      "text/html": [
       "<style>.container {width:100% !important;}</style>"
      ],
      "text/plain": [
       "<IPython.core.display.HTML object>"
      ]
     },
     "metadata": {},
     "output_type": "display_data"
    }
   ],
   "source": [
    "from IPython.core.display import display, HTML\n",
    "display(HTML(\"<style>.container {width:100% !important;}</style>\"))"
   ]
  },
  {
   "cell_type": "code",
   "execution_count": 4,
   "metadata": {},
   "outputs": [],
   "source": [
    "\n",
    "invoices = pd.read_csv('https://raw.githubusercontent.com/FBosler/you-datascientist/master/invoices.csv')\n"
   ]
  },
  {
   "cell_type": "code",
   "execution_count": 5,
   "metadata": {},
   "outputs": [
    {
     "data": {
      "text/html": [
       "<div>\n",
       "<style scoped>\n",
       "    .dataframe tbody tr th:only-of-type {\n",
       "        vertical-align: middle;\n",
       "    }\n",
       "\n",
       "    .dataframe tbody tr th {\n",
       "        vertical-align: top;\n",
       "    }\n",
       "\n",
       "    .dataframe thead th {\n",
       "        text-align: right;\n",
       "    }\n",
       "</style>\n",
       "<table border=\"1\" class=\"dataframe\">\n",
       "  <thead>\n",
       "    <tr style=\"text-align: right;\">\n",
       "      <th></th>\n",
       "      <th>Order Id</th>\n",
       "      <th>Date</th>\n",
       "      <th>Meal Id</th>\n",
       "      <th>Company Id</th>\n",
       "      <th>Date of Meal</th>\n",
       "      <th>Participants</th>\n",
       "      <th>Meal Price</th>\n",
       "      <th>Type of Meal</th>\n",
       "      <th>Heroes Adjustment</th>\n",
       "    </tr>\n",
       "  </thead>\n",
       "  <tbody>\n",
       "    <tr>\n",
       "      <th>0</th>\n",
       "      <td>839FKFW2LLX4LMBB</td>\n",
       "      <td>2016-05-27</td>\n",
       "      <td>INBUX904GIHI8YBD</td>\n",
       "      <td>LJKS5NK6788CYMUU</td>\n",
       "      <td>2016-05-31 07:00:00+02:00</td>\n",
       "      <td>['David Bishop']</td>\n",
       "      <td>469.0</td>\n",
       "      <td>Breakfast</td>\n",
       "      <td>False</td>\n",
       "    </tr>\n",
       "    <tr>\n",
       "      <th>1</th>\n",
       "      <td>97OX39BGVMHODLJM</td>\n",
       "      <td>2018-09-27</td>\n",
       "      <td>J0MMOOPP709DIDIE</td>\n",
       "      <td>LJKS5NK6788CYMUU</td>\n",
       "      <td>2018-10-01 20:00:00+02:00</td>\n",
       "      <td>['David Bishop']</td>\n",
       "      <td>22.0</td>\n",
       "      <td>Dinner</td>\n",
       "      <td>False</td>\n",
       "    </tr>\n",
       "    <tr>\n",
       "      <th>2</th>\n",
       "      <td>041ORQM5OIHTIU6L</td>\n",
       "      <td>2014-08-24</td>\n",
       "      <td>E4UJLQNCI16UX5CS</td>\n",
       "      <td>LJKS5NK6788CYMUU</td>\n",
       "      <td>2014-08-23 14:00:00+02:00</td>\n",
       "      <td>['Karen Stansell']</td>\n",
       "      <td>314.0</td>\n",
       "      <td>Lunch</td>\n",
       "      <td>False</td>\n",
       "    </tr>\n",
       "    <tr>\n",
       "      <th>3</th>\n",
       "      <td>YT796QI18WNGZ7ZJ</td>\n",
       "      <td>2014-04-12</td>\n",
       "      <td>C9SDFHF7553BE247</td>\n",
       "      <td>LJKS5NK6788CYMUU</td>\n",
       "      <td>2014-04-07 21:00:00+02:00</td>\n",
       "      <td>['Addie Patino']</td>\n",
       "      <td>438.0</td>\n",
       "      <td>Dinner</td>\n",
       "      <td>False</td>\n",
       "    </tr>\n",
       "    <tr>\n",
       "      <th>4</th>\n",
       "      <td>6YLROQT27B6HRF4E</td>\n",
       "      <td>2015-07-28</td>\n",
       "      <td>48EQXS6IHYNZDDZ5</td>\n",
       "      <td>LJKS5NK6788CYMUU</td>\n",
       "      <td>2015-07-27 14:00:00+02:00</td>\n",
       "      <td>['Addie Patino' 'Susan Guerrero']</td>\n",
       "      <td>690.0</td>\n",
       "      <td>Lunch</td>\n",
       "      <td>False</td>\n",
       "    </tr>\n",
       "  </tbody>\n",
       "</table>\n",
       "</div>"
      ],
      "text/plain": [
       "           Order Id        Date           Meal Id        Company Id  \\\n",
       "0  839FKFW2LLX4LMBB  2016-05-27  INBUX904GIHI8YBD  LJKS5NK6788CYMUU   \n",
       "1  97OX39BGVMHODLJM  2018-09-27  J0MMOOPP709DIDIE  LJKS5NK6788CYMUU   \n",
       "2  041ORQM5OIHTIU6L  2014-08-24  E4UJLQNCI16UX5CS  LJKS5NK6788CYMUU   \n",
       "3  YT796QI18WNGZ7ZJ  2014-04-12  C9SDFHF7553BE247  LJKS5NK6788CYMUU   \n",
       "4  6YLROQT27B6HRF4E  2015-07-28  48EQXS6IHYNZDDZ5  LJKS5NK6788CYMUU   \n",
       "\n",
       "                Date of Meal                       Participants  Meal Price  \\\n",
       "0  2016-05-31 07:00:00+02:00                   ['David Bishop']       469.0   \n",
       "1  2018-10-01 20:00:00+02:00                   ['David Bishop']        22.0   \n",
       "2  2014-08-23 14:00:00+02:00                 ['Karen Stansell']       314.0   \n",
       "3  2014-04-07 21:00:00+02:00                   ['Addie Patino']       438.0   \n",
       "4  2015-07-27 14:00:00+02:00  ['Addie Patino' 'Susan Guerrero']       690.0   \n",
       "\n",
       "  Type of Meal  Heroes Adjustment  \n",
       "0    Breakfast              False  \n",
       "1       Dinner              False  \n",
       "2        Lunch              False  \n",
       "3       Dinner              False  \n",
       "4        Lunch              False  "
      ]
     },
     "execution_count": 5,
     "metadata": {},
     "output_type": "execute_result"
    }
   ],
   "source": [
    "invoices.head()"
   ]
  },
  {
   "cell_type": "markdown",
   "metadata": {},
   "source": [
    "## **Data Type and Conversions**\n",
    "##### There are two standard ways of converting pandas data types:\n",
    "##### *- .astype( )*\n",
    "##### *- conversion helper functions, like pd.to_numeric or pd.to_datetime*\n",
    "### **.astype( )**"
   ]
  },
  {
   "cell_type": "code",
   "execution_count": 6,
   "metadata": {},
   "outputs": [],
   "source": [
    "df=invoices"
   ]
  },
  {
   "cell_type": "code",
   "execution_count": 7,
   "metadata": {},
   "outputs": [
    {
     "data": {
      "text/plain": [
       "Order Id              object\n",
       "Date                  object\n",
       "Meal Id               object\n",
       "Company Id            object\n",
       "Date of Meal          object\n",
       "Participants          object\n",
       "Meal Price           float64\n",
       "Type of Meal          object\n",
       "Heroes Adjustment       bool\n",
       "dtype: object"
      ]
     },
     "execution_count": 7,
     "metadata": {},
     "output_type": "execute_result"
    }
   ],
   "source": [
    "df.dtypes"
   ]
  },
  {
   "cell_type": "code",
   "execution_count": 8,
   "metadata": {},
   "outputs": [
    {
     "data": {
      "text/plain": [
       "Index(['Order Id', 'Date', 'Meal Id', 'Company Id', 'Date of Meal',\n",
       "       'Participants', 'Meal Price', 'Type of Meal', 'Heroes Adjustment'],\n",
       "      dtype='object')"
      ]
     },
     "execution_count": 8,
     "metadata": {},
     "output_type": "execute_result"
    }
   ],
   "source": [
    "df.columns"
   ]
  },
  {
   "cell_type": "code",
   "execution_count": 9,
   "metadata": {},
   "outputs": [
    {
     "data": {
      "text/html": [
       "<div>\n",
       "<style scoped>\n",
       "    .dataframe tbody tr th:only-of-type {\n",
       "        vertical-align: middle;\n",
       "    }\n",
       "\n",
       "    .dataframe tbody tr th {\n",
       "        vertical-align: top;\n",
       "    }\n",
       "\n",
       "    .dataframe thead th {\n",
       "        text-align: right;\n",
       "    }\n",
       "</style>\n",
       "<table border=\"1\" class=\"dataframe\">\n",
       "  <thead>\n",
       "    <tr style=\"text-align: right;\">\n",
       "      <th></th>\n",
       "      <th>Order Id</th>\n",
       "      <th>Date</th>\n",
       "      <th>Meal Id</th>\n",
       "      <th>Company Id</th>\n",
       "      <th>Date of Meal</th>\n",
       "      <th>Participants</th>\n",
       "      <th>Meal Price</th>\n",
       "      <th>Type of Meal</th>\n",
       "      <th>Heroes Adjustment</th>\n",
       "    </tr>\n",
       "  </thead>\n",
       "  <tbody>\n",
       "    <tr>\n",
       "      <th>0</th>\n",
       "      <td>839FKFW2LLX4LMBB</td>\n",
       "      <td>2016-05-27</td>\n",
       "      <td>INBUX904GIHI8YBD</td>\n",
       "      <td>LJKS5NK6788CYMUU</td>\n",
       "      <td>2016-05-31 07:00:00+02:00</td>\n",
       "      <td>['David Bishop']</td>\n",
       "      <td>469.0</td>\n",
       "      <td>Breakfast</td>\n",
       "      <td>False</td>\n",
       "    </tr>\n",
       "    <tr>\n",
       "      <th>1</th>\n",
       "      <td>97OX39BGVMHODLJM</td>\n",
       "      <td>2018-09-27</td>\n",
       "      <td>J0MMOOPP709DIDIE</td>\n",
       "      <td>LJKS5NK6788CYMUU</td>\n",
       "      <td>2018-10-01 20:00:00+02:00</td>\n",
       "      <td>['David Bishop']</td>\n",
       "      <td>22.0</td>\n",
       "      <td>Dinner</td>\n",
       "      <td>False</td>\n",
       "    </tr>\n",
       "    <tr>\n",
       "      <th>2</th>\n",
       "      <td>041ORQM5OIHTIU6L</td>\n",
       "      <td>2014-08-24</td>\n",
       "      <td>E4UJLQNCI16UX5CS</td>\n",
       "      <td>LJKS5NK6788CYMUU</td>\n",
       "      <td>2014-08-23 14:00:00+02:00</td>\n",
       "      <td>['Karen Stansell']</td>\n",
       "      <td>314.0</td>\n",
       "      <td>Lunch</td>\n",
       "      <td>False</td>\n",
       "    </tr>\n",
       "    <tr>\n",
       "      <th>3</th>\n",
       "      <td>YT796QI18WNGZ7ZJ</td>\n",
       "      <td>2014-04-12</td>\n",
       "      <td>C9SDFHF7553BE247</td>\n",
       "      <td>LJKS5NK6788CYMUU</td>\n",
       "      <td>2014-04-07 21:00:00+02:00</td>\n",
       "      <td>['Addie Patino']</td>\n",
       "      <td>438.0</td>\n",
       "      <td>Dinner</td>\n",
       "      <td>False</td>\n",
       "    </tr>\n",
       "    <tr>\n",
       "      <th>4</th>\n",
       "      <td>6YLROQT27B6HRF4E</td>\n",
       "      <td>2015-07-28</td>\n",
       "      <td>48EQXS6IHYNZDDZ5</td>\n",
       "      <td>LJKS5NK6788CYMUU</td>\n",
       "      <td>2015-07-27 14:00:00+02:00</td>\n",
       "      <td>['Addie Patino' 'Susan Guerrero']</td>\n",
       "      <td>690.0</td>\n",
       "      <td>Lunch</td>\n",
       "      <td>False</td>\n",
       "    </tr>\n",
       "  </tbody>\n",
       "</table>\n",
       "</div>"
      ],
      "text/plain": [
       "           Order Id        Date           Meal Id        Company Id  \\\n",
       "0  839FKFW2LLX4LMBB  2016-05-27  INBUX904GIHI8YBD  LJKS5NK6788CYMUU   \n",
       "1  97OX39BGVMHODLJM  2018-09-27  J0MMOOPP709DIDIE  LJKS5NK6788CYMUU   \n",
       "2  041ORQM5OIHTIU6L  2014-08-24  E4UJLQNCI16UX5CS  LJKS5NK6788CYMUU   \n",
       "3  YT796QI18WNGZ7ZJ  2014-04-12  C9SDFHF7553BE247  LJKS5NK6788CYMUU   \n",
       "4  6YLROQT27B6HRF4E  2015-07-28  48EQXS6IHYNZDDZ5  LJKS5NK6788CYMUU   \n",
       "\n",
       "                Date of Meal                       Participants  Meal Price  \\\n",
       "0  2016-05-31 07:00:00+02:00                   ['David Bishop']       469.0   \n",
       "1  2018-10-01 20:00:00+02:00                   ['David Bishop']        22.0   \n",
       "2  2014-08-23 14:00:00+02:00                 ['Karen Stansell']       314.0   \n",
       "3  2014-04-07 21:00:00+02:00                   ['Addie Patino']       438.0   \n",
       "4  2015-07-27 14:00:00+02:00  ['Addie Patino' 'Susan Guerrero']       690.0   \n",
       "\n",
       "  Type of Meal  Heroes Adjustment  \n",
       "0    Breakfast              False  \n",
       "1       Dinner              False  \n",
       "2        Lunch              False  \n",
       "3       Dinner              False  \n",
       "4        Lunch              False  "
      ]
     },
     "execution_count": 9,
     "metadata": {},
     "output_type": "execute_result"
    }
   ],
   "source": [
    "df.head()"
   ]
  },
  {
   "cell_type": "code",
   "execution_count": 10,
   "metadata": {},
   "outputs": [
    {
     "ename": "ValueError",
     "evalue": "Tz-aware datetime.datetime cannot be converted to datetime64 unless utc=True",
     "output_type": "error",
     "traceback": [
      "\u001b[1;31m---------------------------------------------------------------------------\u001b[0m",
      "\u001b[1;31mValueError\u001b[0m                                Traceback (most recent call last)",
      "File \u001b[1;32mc:\\Users\\ganoa\\anaconda3\\lib\\site-packages\\pandas\\core\\arrays\\datetimes.py:2211\u001b[0m, in \u001b[0;36mobjects_to_datetime64ns\u001b[1;34m(data, dayfirst, yearfirst, utc, errors, require_iso8601, allow_object, allow_mixed)\u001b[0m\n\u001b[0;32m   2210\u001b[0m \u001b[39mtry\u001b[39;00m:\n\u001b[1;32m-> 2211\u001b[0m     values, tz_parsed \u001b[39m=\u001b[39m conversion\u001b[39m.\u001b[39;49mdatetime_to_datetime64(data\u001b[39m.\u001b[39;49mravel(\u001b[39m\"\u001b[39;49m\u001b[39mK\u001b[39;49m\u001b[39m\"\u001b[39;49m))\n\u001b[0;32m   2212\u001b[0m     \u001b[39m# If tzaware, these values represent unix timestamps, so we\u001b[39;00m\n\u001b[0;32m   2213\u001b[0m     \u001b[39m#  return them as i8 to distinguish from wall times\u001b[39;00m\n",
      "File \u001b[1;32mc:\\Users\\ganoa\\anaconda3\\lib\\site-packages\\pandas\\_libs\\tslibs\\conversion.pyx:345\u001b[0m, in \u001b[0;36mpandas._libs.tslibs.conversion.datetime_to_datetime64\u001b[1;34m()\u001b[0m\n",
      "\u001b[1;31mValueError\u001b[0m: Array must be all same time zone",
      "\nDuring handling of the above exception, another exception occurred:\n",
      "\u001b[1;31mValueError\u001b[0m                                Traceback (most recent call last)",
      "\u001b[1;32mc:\\Users\\ganoa\\OneDrive\\Documents\\Belajar_Python\\Data\\Data Cleaning\\invoice.ipynb Cell 11'\u001b[0m in \u001b[0;36m<cell line: 2>\u001b[1;34m()\u001b[0m\n\u001b[0;32m      <a href='vscode-notebook-cell:/c%3A/Users/ganoa/OneDrive/Documents/Belajar_Python/Data/Data%20Cleaning/invoice.ipynb#ch0000010?line=0'>1</a>\u001b[0m df[\u001b[39m'\u001b[39m\u001b[39mDate\u001b[39m\u001b[39m'\u001b[39m]\u001b[39m.\u001b[39mastype(\u001b[39m\"\u001b[39m\u001b[39mdatetime64\u001b[39m\u001b[39m\"\u001b[39m)\n\u001b[1;32m----> <a href='vscode-notebook-cell:/c%3A/Users/ganoa/OneDrive/Documents/Belajar_Python/Data/Data%20Cleaning/invoice.ipynb#ch0000010?line=1'>2</a>\u001b[0m df[\u001b[39m'\u001b[39;49m\u001b[39mDate of Meal\u001b[39;49m\u001b[39m'\u001b[39;49m]\u001b[39m.\u001b[39;49mastype(\u001b[39m'\u001b[39;49m\u001b[39mdatetime64\u001b[39;49m\u001b[39m'\u001b[39;49m)\n",
      "File \u001b[1;32mc:\\Users\\ganoa\\anaconda3\\lib\\site-packages\\pandas\\core\\generic.py:5912\u001b[0m, in \u001b[0;36mNDFrame.astype\u001b[1;34m(self, dtype, copy, errors)\u001b[0m\n\u001b[0;32m   5905\u001b[0m     results \u001b[39m=\u001b[39m [\n\u001b[0;32m   5906\u001b[0m         \u001b[39mself\u001b[39m\u001b[39m.\u001b[39miloc[:, i]\u001b[39m.\u001b[39mastype(dtype, copy\u001b[39m=\u001b[39mcopy)\n\u001b[0;32m   5907\u001b[0m         \u001b[39mfor\u001b[39;00m i \u001b[39min\u001b[39;00m \u001b[39mrange\u001b[39m(\u001b[39mlen\u001b[39m(\u001b[39mself\u001b[39m\u001b[39m.\u001b[39mcolumns))\n\u001b[0;32m   5908\u001b[0m     ]\n\u001b[0;32m   5910\u001b[0m \u001b[39melse\u001b[39;00m:\n\u001b[0;32m   5911\u001b[0m     \u001b[39m# else, only a single dtype is given\u001b[39;00m\n\u001b[1;32m-> 5912\u001b[0m     new_data \u001b[39m=\u001b[39m \u001b[39mself\u001b[39;49m\u001b[39m.\u001b[39;49m_mgr\u001b[39m.\u001b[39;49mastype(dtype\u001b[39m=\u001b[39;49mdtype, copy\u001b[39m=\u001b[39;49mcopy, errors\u001b[39m=\u001b[39;49merrors)\n\u001b[0;32m   5913\u001b[0m     \u001b[39mreturn\u001b[39;00m \u001b[39mself\u001b[39m\u001b[39m.\u001b[39m_constructor(new_data)\u001b[39m.\u001b[39m__finalize__(\u001b[39mself\u001b[39m, method\u001b[39m=\u001b[39m\u001b[39m\"\u001b[39m\u001b[39mastype\u001b[39m\u001b[39m\"\u001b[39m)\n\u001b[0;32m   5915\u001b[0m \u001b[39m# GH 33113: handle empty frame or series\u001b[39;00m\n",
      "File \u001b[1;32mc:\\Users\\ganoa\\anaconda3\\lib\\site-packages\\pandas\\core\\internals\\managers.py:419\u001b[0m, in \u001b[0;36mBaseBlockManager.astype\u001b[1;34m(self, dtype, copy, errors)\u001b[0m\n\u001b[0;32m    418\u001b[0m \u001b[39mdef\u001b[39;00m \u001b[39mastype\u001b[39m(\u001b[39mself\u001b[39m: T, dtype, copy: \u001b[39mbool\u001b[39m \u001b[39m=\u001b[39m \u001b[39mFalse\u001b[39;00m, errors: \u001b[39mstr\u001b[39m \u001b[39m=\u001b[39m \u001b[39m\"\u001b[39m\u001b[39mraise\u001b[39m\u001b[39m\"\u001b[39m) \u001b[39m-\u001b[39m\u001b[39m>\u001b[39m T:\n\u001b[1;32m--> 419\u001b[0m     \u001b[39mreturn\u001b[39;00m \u001b[39mself\u001b[39;49m\u001b[39m.\u001b[39;49mapply(\u001b[39m\"\u001b[39;49m\u001b[39mastype\u001b[39;49m\u001b[39m\"\u001b[39;49m, dtype\u001b[39m=\u001b[39;49mdtype, copy\u001b[39m=\u001b[39;49mcopy, errors\u001b[39m=\u001b[39;49merrors)\n",
      "File \u001b[1;32mc:\\Users\\ganoa\\anaconda3\\lib\\site-packages\\pandas\\core\\internals\\managers.py:304\u001b[0m, in \u001b[0;36mBaseBlockManager.apply\u001b[1;34m(self, f, align_keys, ignore_failures, **kwargs)\u001b[0m\n\u001b[0;32m    302\u001b[0m         applied \u001b[39m=\u001b[39m b\u001b[39m.\u001b[39mapply(f, \u001b[39m*\u001b[39m\u001b[39m*\u001b[39mkwargs)\n\u001b[0;32m    303\u001b[0m     \u001b[39melse\u001b[39;00m:\n\u001b[1;32m--> 304\u001b[0m         applied \u001b[39m=\u001b[39m \u001b[39mgetattr\u001b[39m(b, f)(\u001b[39m*\u001b[39m\u001b[39m*\u001b[39mkwargs)\n\u001b[0;32m    305\u001b[0m \u001b[39mexcept\u001b[39;00m (\u001b[39mTypeError\u001b[39;00m, \u001b[39mNotImplementedError\u001b[39;00m):\n\u001b[0;32m    306\u001b[0m     \u001b[39mif\u001b[39;00m \u001b[39mnot\u001b[39;00m ignore_failures:\n",
      "File \u001b[1;32mc:\\Users\\ganoa\\anaconda3\\lib\\site-packages\\pandas\\core\\internals\\blocks.py:580\u001b[0m, in \u001b[0;36mBlock.astype\u001b[1;34m(self, dtype, copy, errors)\u001b[0m\n\u001b[0;32m    562\u001b[0m \u001b[39m\"\"\"\u001b[39;00m\n\u001b[0;32m    563\u001b[0m \u001b[39mCoerce to the new dtype.\u001b[39;00m\n\u001b[0;32m    564\u001b[0m \n\u001b[1;32m   (...)\u001b[0m\n\u001b[0;32m    576\u001b[0m \u001b[39mBlock\u001b[39;00m\n\u001b[0;32m    577\u001b[0m \u001b[39m\"\"\"\u001b[39;00m\n\u001b[0;32m    578\u001b[0m values \u001b[39m=\u001b[39m \u001b[39mself\u001b[39m\u001b[39m.\u001b[39mvalues\n\u001b[1;32m--> 580\u001b[0m new_values \u001b[39m=\u001b[39m astype_array_safe(values, dtype, copy\u001b[39m=\u001b[39;49mcopy, errors\u001b[39m=\u001b[39;49merrors)\n\u001b[0;32m    582\u001b[0m new_values \u001b[39m=\u001b[39m maybe_coerce_values(new_values)\n\u001b[0;32m    583\u001b[0m newb \u001b[39m=\u001b[39m \u001b[39mself\u001b[39m\u001b[39m.\u001b[39mmake_block(new_values)\n",
      "File \u001b[1;32mc:\\Users\\ganoa\\anaconda3\\lib\\site-packages\\pandas\\core\\dtypes\\cast.py:1292\u001b[0m, in \u001b[0;36mastype_array_safe\u001b[1;34m(values, dtype, copy, errors)\u001b[0m\n\u001b[0;32m   1289\u001b[0m     dtype \u001b[39m=\u001b[39m dtype\u001b[39m.\u001b[39mnumpy_dtype\n\u001b[0;32m   1291\u001b[0m \u001b[39mtry\u001b[39;00m:\n\u001b[1;32m-> 1292\u001b[0m     new_values \u001b[39m=\u001b[39m astype_array(values, dtype, copy\u001b[39m=\u001b[39;49mcopy)\n\u001b[0;32m   1293\u001b[0m \u001b[39mexcept\u001b[39;00m (\u001b[39mValueError\u001b[39;00m, \u001b[39mTypeError\u001b[39;00m):\n\u001b[0;32m   1294\u001b[0m     \u001b[39m# e.g. astype_nansafe can fail on object-dtype of strings\u001b[39;00m\n\u001b[0;32m   1295\u001b[0m     \u001b[39m#  trying to convert to float\u001b[39;00m\n\u001b[0;32m   1296\u001b[0m     \u001b[39mif\u001b[39;00m errors \u001b[39m==\u001b[39m \u001b[39m\"\u001b[39m\u001b[39mignore\u001b[39m\u001b[39m\"\u001b[39m:\n",
      "File \u001b[1;32mc:\\Users\\ganoa\\anaconda3\\lib\\site-packages\\pandas\\core\\dtypes\\cast.py:1237\u001b[0m, in \u001b[0;36mastype_array\u001b[1;34m(values, dtype, copy)\u001b[0m\n\u001b[0;32m   1234\u001b[0m     values \u001b[39m=\u001b[39m values\u001b[39m.\u001b[39mastype(dtype, copy\u001b[39m=\u001b[39mcopy)\n\u001b[0;32m   1236\u001b[0m \u001b[39melse\u001b[39;00m:\n\u001b[1;32m-> 1237\u001b[0m     values \u001b[39m=\u001b[39m astype_nansafe(values, dtype, copy\u001b[39m=\u001b[39;49mcopy)\n\u001b[0;32m   1239\u001b[0m \u001b[39m# in pandas we don't store numpy str dtypes, so convert to object\u001b[39;00m\n\u001b[0;32m   1240\u001b[0m \u001b[39mif\u001b[39;00m \u001b[39misinstance\u001b[39m(dtype, np\u001b[39m.\u001b[39mdtype) \u001b[39mand\u001b[39;00m \u001b[39missubclass\u001b[39m(values\u001b[39m.\u001b[39mdtype\u001b[39m.\u001b[39mtype, \u001b[39mstr\u001b[39m):\n",
      "File \u001b[1;32mc:\\Users\\ganoa\\anaconda3\\lib\\site-packages\\pandas\\core\\dtypes\\cast.py:1162\u001b[0m, in \u001b[0;36mastype_nansafe\u001b[1;34m(arr, dtype, copy, skipna)\u001b[0m\n\u001b[0;32m   1159\u001b[0m \u001b[39melif\u001b[39;00m is_datetime64_dtype(dtype):\n\u001b[0;32m   1160\u001b[0m     \u001b[39mfrom\u001b[39;00m \u001b[39mpandas\u001b[39;00m \u001b[39mimport\u001b[39;00m to_datetime\n\u001b[1;32m-> 1162\u001b[0m     \u001b[39mreturn\u001b[39;00m astype_nansafe(\n\u001b[0;32m   1163\u001b[0m         to_datetime(arr)\u001b[39m.\u001b[39;49mvalues,\n\u001b[0;32m   1164\u001b[0m         dtype,\n\u001b[0;32m   1165\u001b[0m         copy\u001b[39m=\u001b[39;49mcopy,\n\u001b[0;32m   1166\u001b[0m     )\n\u001b[0;32m   1167\u001b[0m \u001b[39melif\u001b[39;00m is_timedelta64_dtype(dtype):\n\u001b[0;32m   1168\u001b[0m     \u001b[39mfrom\u001b[39;00m \u001b[39mpandas\u001b[39;00m \u001b[39mimport\u001b[39;00m to_timedelta\n",
      "File \u001b[1;32mc:\\Users\\ganoa\\anaconda3\\lib\\site-packages\\pandas\\core\\dtypes\\cast.py:1163\u001b[0m, in \u001b[0;36mastype_nansafe\u001b[1;34m(arr, dtype, copy, skipna)\u001b[0m\n\u001b[0;32m   1159\u001b[0m \u001b[39melif\u001b[39;00m is_datetime64_dtype(dtype):\n\u001b[0;32m   1160\u001b[0m     \u001b[39mfrom\u001b[39;00m \u001b[39mpandas\u001b[39;00m \u001b[39mimport\u001b[39;00m to_datetime\n\u001b[0;32m   1162\u001b[0m     \u001b[39mreturn\u001b[39;00m astype_nansafe(\n\u001b[1;32m-> 1163\u001b[0m         to_datetime(arr)\u001b[39m.\u001b[39mvalues,\n\u001b[0;32m   1164\u001b[0m         dtype,\n\u001b[0;32m   1165\u001b[0m         copy\u001b[39m=\u001b[39mcopy,\n\u001b[0;32m   1166\u001b[0m     )\n\u001b[0;32m   1167\u001b[0m \u001b[39melif\u001b[39;00m is_timedelta64_dtype(dtype):\n\u001b[0;32m   1168\u001b[0m     \u001b[39mfrom\u001b[39;00m \u001b[39mpandas\u001b[39;00m \u001b[39mimport\u001b[39;00m to_timedelta\n",
      "File \u001b[1;32mc:\\Users\\ganoa\\anaconda3\\lib\\site-packages\\pandas\\core\\tools\\datetimes.py:1076\u001b[0m, in \u001b[0;36mto_datetime\u001b[1;34m(arg, errors, dayfirst, yearfirst, utc, format, exact, unit, infer_datetime_format, origin, cache)\u001b[0m\n\u001b[0;32m   1074\u001b[0m         result \u001b[39m=\u001b[39m _convert_and_box_cache(arg, cache_array)\n\u001b[0;32m   1075\u001b[0m     \u001b[39melse\u001b[39;00m:\n\u001b[1;32m-> 1076\u001b[0m         result \u001b[39m=\u001b[39m convert_listlike(arg, \u001b[39mformat\u001b[39;49m)\n\u001b[0;32m   1077\u001b[0m \u001b[39melse\u001b[39;00m:\n\u001b[0;32m   1078\u001b[0m     result \u001b[39m=\u001b[39m convert_listlike(np\u001b[39m.\u001b[39marray([arg]), \u001b[39mformat\u001b[39m)[\u001b[39m0\u001b[39m]\n",
      "File \u001b[1;32mc:\\Users\\ganoa\\anaconda3\\lib\\site-packages\\pandas\\core\\tools\\datetimes.py:402\u001b[0m, in \u001b[0;36m_convert_listlike_datetimes\u001b[1;34m(arg, format, name, tz, unit, errors, infer_datetime_format, dayfirst, yearfirst, exact)\u001b[0m\n\u001b[0;32m    400\u001b[0m \u001b[39massert\u001b[39;00m \u001b[39mformat\u001b[39m \u001b[39mis\u001b[39;00m \u001b[39mNone\u001b[39;00m \u001b[39mor\u001b[39;00m infer_datetime_format\n\u001b[0;32m    401\u001b[0m utc \u001b[39m=\u001b[39m tz \u001b[39m==\u001b[39m \u001b[39m\"\u001b[39m\u001b[39mutc\u001b[39m\u001b[39m\"\u001b[39m\n\u001b[1;32m--> 402\u001b[0m result, tz_parsed \u001b[39m=\u001b[39m objects_to_datetime64ns(\n\u001b[0;32m    403\u001b[0m     arg,\n\u001b[0;32m    404\u001b[0m     dayfirst\u001b[39m=\u001b[39;49mdayfirst,\n\u001b[0;32m    405\u001b[0m     yearfirst\u001b[39m=\u001b[39;49myearfirst,\n\u001b[0;32m    406\u001b[0m     utc\u001b[39m=\u001b[39;49mutc,\n\u001b[0;32m    407\u001b[0m     errors\u001b[39m=\u001b[39;49merrors,\n\u001b[0;32m    408\u001b[0m     require_iso8601\u001b[39m=\u001b[39;49mrequire_iso8601,\n\u001b[0;32m    409\u001b[0m     allow_object\u001b[39m=\u001b[39;49m\u001b[39mTrue\u001b[39;49;00m,\n\u001b[0;32m    410\u001b[0m )\n\u001b[0;32m    412\u001b[0m \u001b[39mif\u001b[39;00m tz_parsed \u001b[39mis\u001b[39;00m \u001b[39mnot\u001b[39;00m \u001b[39mNone\u001b[39;00m:\n\u001b[0;32m    413\u001b[0m     \u001b[39m# We can take a shortcut since the datetime64 numpy array\u001b[39;00m\n\u001b[0;32m    414\u001b[0m     \u001b[39m# is in UTC\u001b[39;00m\n\u001b[0;32m    415\u001b[0m     dta \u001b[39m=\u001b[39m DatetimeArray(result, dtype\u001b[39m=\u001b[39mtz_to_dtype(tz_parsed))\n",
      "File \u001b[1;32mc:\\Users\\ganoa\\anaconda3\\lib\\site-packages\\pandas\\core\\arrays\\datetimes.py:2217\u001b[0m, in \u001b[0;36mobjects_to_datetime64ns\u001b[1;34m(data, dayfirst, yearfirst, utc, errors, require_iso8601, allow_object, allow_mixed)\u001b[0m\n\u001b[0;32m   2215\u001b[0m         \u001b[39mreturn\u001b[39;00m values\u001b[39m.\u001b[39mview(\u001b[39m\"\u001b[39m\u001b[39mi8\u001b[39m\u001b[39m\"\u001b[39m), tz_parsed\n\u001b[0;32m   2216\u001b[0m     \u001b[39mexcept\u001b[39;00m (\u001b[39mValueError\u001b[39;00m, \u001b[39mTypeError\u001b[39;00m):\n\u001b[1;32m-> 2217\u001b[0m         \u001b[39mraise\u001b[39;00m err\n\u001b[0;32m   2219\u001b[0m \u001b[39mif\u001b[39;00m tz_parsed \u001b[39mis\u001b[39;00m \u001b[39mnot\u001b[39;00m \u001b[39mNone\u001b[39;00m:\n\u001b[0;32m   2220\u001b[0m     \u001b[39m# We can take a shortcut since the datetime64 numpy array\u001b[39;00m\n\u001b[0;32m   2221\u001b[0m     \u001b[39m#  is in UTC\u001b[39;00m\n\u001b[0;32m   2222\u001b[0m     \u001b[39m# Return i8 values to denote unix timestamps\u001b[39;00m\n\u001b[0;32m   2223\u001b[0m     \u001b[39mreturn\u001b[39;00m result\u001b[39m.\u001b[39mview(\u001b[39m\"\u001b[39m\u001b[39mi8\u001b[39m\u001b[39m\"\u001b[39m), tz_parsed\n",
      "File \u001b[1;32mc:\\Users\\ganoa\\anaconda3\\lib\\site-packages\\pandas\\core\\arrays\\datetimes.py:2199\u001b[0m, in \u001b[0;36mobjects_to_datetime64ns\u001b[1;34m(data, dayfirst, yearfirst, utc, errors, require_iso8601, allow_object, allow_mixed)\u001b[0m\n\u001b[0;32m   2197\u001b[0m order: Literal[\u001b[39m\"\u001b[39m\u001b[39mF\u001b[39m\u001b[39m\"\u001b[39m, \u001b[39m\"\u001b[39m\u001b[39mC\u001b[39m\u001b[39m\"\u001b[39m] \u001b[39m=\u001b[39m \u001b[39m\"\u001b[39m\u001b[39mF\u001b[39m\u001b[39m\"\u001b[39m \u001b[39mif\u001b[39;00m flags\u001b[39m.\u001b[39mf_contiguous \u001b[39melse\u001b[39;00m \u001b[39m\"\u001b[39m\u001b[39mC\u001b[39m\u001b[39m\"\u001b[39m\n\u001b[0;32m   2198\u001b[0m \u001b[39mtry\u001b[39;00m:\n\u001b[1;32m-> 2199\u001b[0m     result, tz_parsed \u001b[39m=\u001b[39m tslib\u001b[39m.\u001b[39;49marray_to_datetime(\n\u001b[0;32m   2200\u001b[0m         data\u001b[39m.\u001b[39;49mravel(\u001b[39m\"\u001b[39;49m\u001b[39mK\u001b[39;49m\u001b[39m\"\u001b[39;49m),\n\u001b[0;32m   2201\u001b[0m         errors\u001b[39m=\u001b[39;49merrors,\n\u001b[0;32m   2202\u001b[0m         utc\u001b[39m=\u001b[39;49mutc,\n\u001b[0;32m   2203\u001b[0m         dayfirst\u001b[39m=\u001b[39;49mdayfirst,\n\u001b[0;32m   2204\u001b[0m         yearfirst\u001b[39m=\u001b[39;49myearfirst,\n\u001b[0;32m   2205\u001b[0m         require_iso8601\u001b[39m=\u001b[39;49mrequire_iso8601,\n\u001b[0;32m   2206\u001b[0m         allow_mixed\u001b[39m=\u001b[39;49mallow_mixed,\n\u001b[0;32m   2207\u001b[0m     )\n\u001b[0;32m   2208\u001b[0m     result \u001b[39m=\u001b[39m result\u001b[39m.\u001b[39mreshape(data\u001b[39m.\u001b[39mshape, order\u001b[39m=\u001b[39morder)\n\u001b[0;32m   2209\u001b[0m \u001b[39mexcept\u001b[39;00m \u001b[39mValueError\u001b[39;00m \u001b[39mas\u001b[39;00m err:\n",
      "File \u001b[1;32mc:\\Users\\ganoa\\anaconda3\\lib\\site-packages\\pandas\\_libs\\tslib.pyx:381\u001b[0m, in \u001b[0;36mpandas._libs.tslib.array_to_datetime\u001b[1;34m()\u001b[0m\n",
      "File \u001b[1;32mc:\\Users\\ganoa\\anaconda3\\lib\\site-packages\\pandas\\_libs\\tslib.pyx:469\u001b[0m, in \u001b[0;36mpandas._libs.tslib.array_to_datetime\u001b[1;34m()\u001b[0m\n",
      "\u001b[1;31mValueError\u001b[0m: Tz-aware datetime.datetime cannot be converted to datetime64 unless utc=True"
     ]
    }
   ],
   "source": [
    "df['Date'].astype(\"datetime64\")\n",
    "df['Date of Meal'].astype('datetime64')\n"
   ]
  },
  {
   "cell_type": "code",
   "execution_count": 11,
   "metadata": {},
   "outputs": [
    {
     "data": {
      "text/plain": [
       "0        Breakfast\n",
       "1           Dinner\n",
       "2            Lunch\n",
       "3           Dinner\n",
       "4            Lunch\n",
       "           ...    \n",
       "50012    Breakfast\n",
       "50013    Breakfast\n",
       "50014       Dinner\n",
       "50015       Dinner\n",
       "50016        Lunch\n",
       "Name: Type of Meal, Length: 50017, dtype: category\n",
       "Categories (3, object): ['Breakfast', 'Dinner', 'Lunch']"
      ]
     },
     "execution_count": 11,
     "metadata": {},
     "output_type": "execute_result"
    }
   ],
   "source": [
    "## Error because the utc=True\n",
    "## So it can solve by use pd.datetime\n",
    "df['Date'].astype(\"datetime64\")\n",
    "df['Date of Meal'].apply(pd.to_datetime)\n",
    "df[\"Meal Price\"].astype(\"int\")\n",
    "df[\"Type of Meal\"].astype(\"category\")\n",
    "\n",
    "## Looking good so we can use Inplace=True or add the variabel to commit change"
   ]
  },
  {
   "cell_type": "code",
   "execution_count": 12,
   "metadata": {},
   "outputs": [],
   "source": [
    "## Here I decide to add the variabel for commit the change\n",
    "df['Date'] = df['Date'].astype(\"datetime64\")\n",
    "df['Date of Meal'] = df['Date of Meal'].apply(pd.to_datetime)\n",
    "df[\"Meal Price\"] = df[\"Meal Price\"].astype(\"int\")\n",
    "df[\"Type of Meal\"] = df[\"Type of Meal\"].astype(\"category\")"
   ]
  },
  {
   "cell_type": "code",
   "execution_count": 14,
   "metadata": {},
   "outputs": [
    {
     "data": {
      "text/plain": [
       "Order Id                     object\n",
       "Date                 datetime64[ns]\n",
       "Meal Id                      object\n",
       "Company Id                   object\n",
       "Date of Meal                 object\n",
       "Participants                 object\n",
       "Meal Price                    int32\n",
       "Type of Meal               category\n",
       "Heroes Adjustment              bool\n",
       "dtype: object"
      ]
     },
     "execution_count": 14,
     "metadata": {},
     "output_type": "execute_result"
    }
   ],
   "source": [
    "df.dtypes"
   ]
  },
  {
   "cell_type": "code",
   "execution_count": 15,
   "metadata": {},
   "outputs": [],
   "source": [
    "df[\"Date of Meal\"]=df[\"Date of Meal\"].apply(pd.to_datetime)"
   ]
  },
  {
   "cell_type": "code",
   "execution_count": 16,
   "metadata": {},
   "outputs": [
    {
     "data": {
      "text/html": [
       "<div>\n",
       "<style scoped>\n",
       "    .dataframe tbody tr th:only-of-type {\n",
       "        vertical-align: middle;\n",
       "    }\n",
       "\n",
       "    .dataframe tbody tr th {\n",
       "        vertical-align: top;\n",
       "    }\n",
       "\n",
       "    .dataframe thead th {\n",
       "        text-align: right;\n",
       "    }\n",
       "</style>\n",
       "<table border=\"1\" class=\"dataframe\">\n",
       "  <thead>\n",
       "    <tr style=\"text-align: right;\">\n",
       "      <th></th>\n",
       "      <th>Order Id</th>\n",
       "      <th>Date</th>\n",
       "      <th>Meal Id</th>\n",
       "      <th>Company Id</th>\n",
       "      <th>Date of Meal</th>\n",
       "      <th>Participants</th>\n",
       "      <th>Meal Price</th>\n",
       "      <th>Type of Meal</th>\n",
       "      <th>Heroes Adjustment</th>\n",
       "    </tr>\n",
       "  </thead>\n",
       "  <tbody>\n",
       "    <tr>\n",
       "      <th>0</th>\n",
       "      <td>839FKFW2LLX4LMBB</td>\n",
       "      <td>2016-05-27</td>\n",
       "      <td>INBUX904GIHI8YBD</td>\n",
       "      <td>LJKS5NK6788CYMUU</td>\n",
       "      <td>2016-05-31 07:00:00+02:00</td>\n",
       "      <td>['David Bishop']</td>\n",
       "      <td>469</td>\n",
       "      <td>Breakfast</td>\n",
       "      <td>False</td>\n",
       "    </tr>\n",
       "    <tr>\n",
       "      <th>1</th>\n",
       "      <td>97OX39BGVMHODLJM</td>\n",
       "      <td>2018-09-27</td>\n",
       "      <td>J0MMOOPP709DIDIE</td>\n",
       "      <td>LJKS5NK6788CYMUU</td>\n",
       "      <td>2018-10-01 20:00:00+02:00</td>\n",
       "      <td>['David Bishop']</td>\n",
       "      <td>22</td>\n",
       "      <td>Dinner</td>\n",
       "      <td>False</td>\n",
       "    </tr>\n",
       "    <tr>\n",
       "      <th>2</th>\n",
       "      <td>041ORQM5OIHTIU6L</td>\n",
       "      <td>2014-08-24</td>\n",
       "      <td>E4UJLQNCI16UX5CS</td>\n",
       "      <td>LJKS5NK6788CYMUU</td>\n",
       "      <td>2014-08-23 14:00:00+02:00</td>\n",
       "      <td>['Karen Stansell']</td>\n",
       "      <td>314</td>\n",
       "      <td>Lunch</td>\n",
       "      <td>False</td>\n",
       "    </tr>\n",
       "    <tr>\n",
       "      <th>3</th>\n",
       "      <td>YT796QI18WNGZ7ZJ</td>\n",
       "      <td>2014-04-12</td>\n",
       "      <td>C9SDFHF7553BE247</td>\n",
       "      <td>LJKS5NK6788CYMUU</td>\n",
       "      <td>2014-04-07 21:00:00+02:00</td>\n",
       "      <td>['Addie Patino']</td>\n",
       "      <td>438</td>\n",
       "      <td>Dinner</td>\n",
       "      <td>False</td>\n",
       "    </tr>\n",
       "    <tr>\n",
       "      <th>4</th>\n",
       "      <td>6YLROQT27B6HRF4E</td>\n",
       "      <td>2015-07-28</td>\n",
       "      <td>48EQXS6IHYNZDDZ5</td>\n",
       "      <td>LJKS5NK6788CYMUU</td>\n",
       "      <td>2015-07-27 14:00:00+02:00</td>\n",
       "      <td>['Addie Patino' 'Susan Guerrero']</td>\n",
       "      <td>690</td>\n",
       "      <td>Lunch</td>\n",
       "      <td>False</td>\n",
       "    </tr>\n",
       "  </tbody>\n",
       "</table>\n",
       "</div>"
      ],
      "text/plain": [
       "           Order Id       Date           Meal Id        Company Id  \\\n",
       "0  839FKFW2LLX4LMBB 2016-05-27  INBUX904GIHI8YBD  LJKS5NK6788CYMUU   \n",
       "1  97OX39BGVMHODLJM 2018-09-27  J0MMOOPP709DIDIE  LJKS5NK6788CYMUU   \n",
       "2  041ORQM5OIHTIU6L 2014-08-24  E4UJLQNCI16UX5CS  LJKS5NK6788CYMUU   \n",
       "3  YT796QI18WNGZ7ZJ 2014-04-12  C9SDFHF7553BE247  LJKS5NK6788CYMUU   \n",
       "4  6YLROQT27B6HRF4E 2015-07-28  48EQXS6IHYNZDDZ5  LJKS5NK6788CYMUU   \n",
       "\n",
       "                Date of Meal                       Participants  Meal Price  \\\n",
       "0  2016-05-31 07:00:00+02:00                   ['David Bishop']         469   \n",
       "1  2018-10-01 20:00:00+02:00                   ['David Bishop']          22   \n",
       "2  2014-08-23 14:00:00+02:00                 ['Karen Stansell']         314   \n",
       "3  2014-04-07 21:00:00+02:00                   ['Addie Patino']         438   \n",
       "4  2015-07-27 14:00:00+02:00  ['Addie Patino' 'Susan Guerrero']         690   \n",
       "\n",
       "  Type of Meal  Heroes Adjustment  \n",
       "0    Breakfast              False  \n",
       "1       Dinner              False  \n",
       "2        Lunch              False  \n",
       "3       Dinner              False  \n",
       "4        Lunch              False  "
      ]
     },
     "execution_count": 16,
     "metadata": {},
     "output_type": "execute_result"
    }
   ],
   "source": [
    "df.head()"
   ]
  },
  {
   "cell_type": "code",
   "execution_count": 17,
   "metadata": {},
   "outputs": [
    {
     "data": {
      "text/plain": [
       "Order Id             0\n",
       "Date                 0\n",
       "Meal Id              0\n",
       "Company Id           0\n",
       "Date of Meal         0\n",
       "Participants         0\n",
       "Meal Price           0\n",
       "Type of Meal         0\n",
       "Heroes Adjustment    0\n",
       "dtype: int64"
      ]
     },
     "execution_count": 17,
     "metadata": {},
     "output_type": "execute_result"
    }
   ],
   "source": [
    "df.isnull().sum()"
   ]
  },
  {
   "cell_type": "code",
   "execution_count": 18,
   "metadata": {},
   "outputs": [
    {
     "data": {
      "text/plain": [
       "0"
      ]
     },
     "execution_count": 18,
     "metadata": {},
     "output_type": "execute_result"
    }
   ],
   "source": [
    "df[\"Meal Price\"].isna().sum()"
   ]
  },
  {
   "cell_type": "code",
   "execution_count": 19,
   "metadata": {},
   "outputs": [
    {
     "data": {
      "text/plain": [
       "Order Id                     object\n",
       "Date                 datetime64[ns]\n",
       "Meal Id                      object\n",
       "Company Id                   object\n",
       "Date of Meal                 object\n",
       "Participants                 object\n",
       "Meal Price                    int32\n",
       "Type of Meal               category\n",
       "Heroes Adjustment              bool\n",
       "dtype: object"
      ]
     },
     "execution_count": 19,
     "metadata": {},
     "output_type": "execute_result"
    }
   ],
   "source": [
    "df.dtypes"
   ]
  },
  {
   "cell_type": "markdown",
   "metadata": {},
   "source": [
    "## **Data Type and Conversions** \n",
    "# *Clear*\n",
    "## *the datatype is have be change, no missing value, column [\"Meal Price] zero isnan*"
   ]
  },
  {
   "cell_type": "markdown",
   "metadata": {},
   "source": []
  },
  {
   "cell_type": "markdown",
   "metadata": {},
   "source": [
    "# **Task 2 : Data Manipulation**\n",
    "### *- Find what day of the month*\n",
    "### *- Find what day of the Week*\n",
    "### *- Find what time they buy*\n",
    "### *- Find what menu they buy*\n",
    "### *- Find their expense*\n",
    "\n",
    "## **So I can visualization, to see pattern of buyer** "
   ]
  },
  {
   "cell_type": "code",
   "execution_count": 20,
   "metadata": {},
   "outputs": [
    {
     "data": {
      "text/html": [
       "<div>\n",
       "<style scoped>\n",
       "    .dataframe tbody tr th:only-of-type {\n",
       "        vertical-align: middle;\n",
       "    }\n",
       "\n",
       "    .dataframe tbody tr th {\n",
       "        vertical-align: top;\n",
       "    }\n",
       "\n",
       "    .dataframe thead th {\n",
       "        text-align: right;\n",
       "    }\n",
       "</style>\n",
       "<table border=\"1\" class=\"dataframe\">\n",
       "  <thead>\n",
       "    <tr style=\"text-align: right;\">\n",
       "      <th></th>\n",
       "      <th>Order Id</th>\n",
       "      <th>Date</th>\n",
       "      <th>Meal Id</th>\n",
       "      <th>Company Id</th>\n",
       "      <th>Date of Meal</th>\n",
       "      <th>Participants</th>\n",
       "      <th>Meal Price</th>\n",
       "      <th>Type of Meal</th>\n",
       "      <th>Heroes Adjustment</th>\n",
       "    </tr>\n",
       "  </thead>\n",
       "  <tbody>\n",
       "    <tr>\n",
       "      <th>0</th>\n",
       "      <td>839FKFW2LLX4LMBB</td>\n",
       "      <td>2016-05-27</td>\n",
       "      <td>INBUX904GIHI8YBD</td>\n",
       "      <td>LJKS5NK6788CYMUU</td>\n",
       "      <td>2016-05-31 07:00:00+02:00</td>\n",
       "      <td>['David Bishop']</td>\n",
       "      <td>469</td>\n",
       "      <td>Breakfast</td>\n",
       "      <td>False</td>\n",
       "    </tr>\n",
       "    <tr>\n",
       "      <th>1</th>\n",
       "      <td>97OX39BGVMHODLJM</td>\n",
       "      <td>2018-09-27</td>\n",
       "      <td>J0MMOOPP709DIDIE</td>\n",
       "      <td>LJKS5NK6788CYMUU</td>\n",
       "      <td>2018-10-01 20:00:00+02:00</td>\n",
       "      <td>['David Bishop']</td>\n",
       "      <td>22</td>\n",
       "      <td>Dinner</td>\n",
       "      <td>False</td>\n",
       "    </tr>\n",
       "    <tr>\n",
       "      <th>2</th>\n",
       "      <td>041ORQM5OIHTIU6L</td>\n",
       "      <td>2014-08-24</td>\n",
       "      <td>E4UJLQNCI16UX5CS</td>\n",
       "      <td>LJKS5NK6788CYMUU</td>\n",
       "      <td>2014-08-23 14:00:00+02:00</td>\n",
       "      <td>['Karen Stansell']</td>\n",
       "      <td>314</td>\n",
       "      <td>Lunch</td>\n",
       "      <td>False</td>\n",
       "    </tr>\n",
       "    <tr>\n",
       "      <th>3</th>\n",
       "      <td>YT796QI18WNGZ7ZJ</td>\n",
       "      <td>2014-04-12</td>\n",
       "      <td>C9SDFHF7553BE247</td>\n",
       "      <td>LJKS5NK6788CYMUU</td>\n",
       "      <td>2014-04-07 21:00:00+02:00</td>\n",
       "      <td>['Addie Patino']</td>\n",
       "      <td>438</td>\n",
       "      <td>Dinner</td>\n",
       "      <td>False</td>\n",
       "    </tr>\n",
       "    <tr>\n",
       "      <th>4</th>\n",
       "      <td>6YLROQT27B6HRF4E</td>\n",
       "      <td>2015-07-28</td>\n",
       "      <td>48EQXS6IHYNZDDZ5</td>\n",
       "      <td>LJKS5NK6788CYMUU</td>\n",
       "      <td>2015-07-27 14:00:00+02:00</td>\n",
       "      <td>['Addie Patino' 'Susan Guerrero']</td>\n",
       "      <td>690</td>\n",
       "      <td>Lunch</td>\n",
       "      <td>False</td>\n",
       "    </tr>\n",
       "  </tbody>\n",
       "</table>\n",
       "</div>"
      ],
      "text/plain": [
       "           Order Id       Date           Meal Id        Company Id  \\\n",
       "0  839FKFW2LLX4LMBB 2016-05-27  INBUX904GIHI8YBD  LJKS5NK6788CYMUU   \n",
       "1  97OX39BGVMHODLJM 2018-09-27  J0MMOOPP709DIDIE  LJKS5NK6788CYMUU   \n",
       "2  041ORQM5OIHTIU6L 2014-08-24  E4UJLQNCI16UX5CS  LJKS5NK6788CYMUU   \n",
       "3  YT796QI18WNGZ7ZJ 2014-04-12  C9SDFHF7553BE247  LJKS5NK6788CYMUU   \n",
       "4  6YLROQT27B6HRF4E 2015-07-28  48EQXS6IHYNZDDZ5  LJKS5NK6788CYMUU   \n",
       "\n",
       "                Date of Meal                       Participants  Meal Price  \\\n",
       "0  2016-05-31 07:00:00+02:00                   ['David Bishop']         469   \n",
       "1  2018-10-01 20:00:00+02:00                   ['David Bishop']          22   \n",
       "2  2014-08-23 14:00:00+02:00                 ['Karen Stansell']         314   \n",
       "3  2014-04-07 21:00:00+02:00                   ['Addie Patino']         438   \n",
       "4  2015-07-27 14:00:00+02:00  ['Addie Patino' 'Susan Guerrero']         690   \n",
       "\n",
       "  Type of Meal  Heroes Adjustment  \n",
       "0    Breakfast              False  \n",
       "1       Dinner              False  \n",
       "2        Lunch              False  \n",
       "3       Dinner              False  \n",
       "4        Lunch              False  "
      ]
     },
     "execution_count": 20,
     "metadata": {},
     "output_type": "execute_result"
    }
   ],
   "source": [
    "df.head()"
   ]
  },
  {
   "cell_type": "code",
   "execution_count": 21,
   "metadata": {},
   "outputs": [
    {
     "data": {
      "text/plain": [
       "Index(['Order Id', 'Date', 'Meal Id', 'Company Id', 'Date of Meal',\n",
       "       'Participants', 'Meal Price', 'Type of Meal', 'Heroes Adjustment'],\n",
       "      dtype='object')"
      ]
     },
     "execution_count": 21,
     "metadata": {},
     "output_type": "execute_result"
    }
   ],
   "source": [
    "df.columns"
   ]
  },
  {
   "cell_type": "code",
   "execution_count": 23,
   "metadata": {},
   "outputs": [],
   "source": [
    "## Subset the dataset\n",
    "subset1=df[['Participants','Date','Date of Meal',\n",
    "'Meal Price', 'Type of Meal']]"
   ]
  },
  {
   "cell_type": "code",
   "execution_count": 24,
   "metadata": {},
   "outputs": [
    {
     "data": {
      "text/html": [
       "<div>\n",
       "<style scoped>\n",
       "    .dataframe tbody tr th:only-of-type {\n",
       "        vertical-align: middle;\n",
       "    }\n",
       "\n",
       "    .dataframe tbody tr th {\n",
       "        vertical-align: top;\n",
       "    }\n",
       "\n",
       "    .dataframe thead th {\n",
       "        text-align: right;\n",
       "    }\n",
       "</style>\n",
       "<table border=\"1\" class=\"dataframe\">\n",
       "  <thead>\n",
       "    <tr style=\"text-align: right;\">\n",
       "      <th></th>\n",
       "      <th>Participants</th>\n",
       "      <th>Date</th>\n",
       "      <th>Date of Meal</th>\n",
       "      <th>Meal Price</th>\n",
       "      <th>Type of Meal</th>\n",
       "    </tr>\n",
       "  </thead>\n",
       "  <tbody>\n",
       "    <tr>\n",
       "      <th>0</th>\n",
       "      <td>['David Bishop']</td>\n",
       "      <td>2016-05-27</td>\n",
       "      <td>2016-05-31 07:00:00+02:00</td>\n",
       "      <td>469</td>\n",
       "      <td>Breakfast</td>\n",
       "    </tr>\n",
       "    <tr>\n",
       "      <th>1</th>\n",
       "      <td>['David Bishop']</td>\n",
       "      <td>2018-09-27</td>\n",
       "      <td>2018-10-01 20:00:00+02:00</td>\n",
       "      <td>22</td>\n",
       "      <td>Dinner</td>\n",
       "    </tr>\n",
       "    <tr>\n",
       "      <th>2</th>\n",
       "      <td>['Karen Stansell']</td>\n",
       "      <td>2014-08-24</td>\n",
       "      <td>2014-08-23 14:00:00+02:00</td>\n",
       "      <td>314</td>\n",
       "      <td>Lunch</td>\n",
       "    </tr>\n",
       "    <tr>\n",
       "      <th>3</th>\n",
       "      <td>['Addie Patino']</td>\n",
       "      <td>2014-04-12</td>\n",
       "      <td>2014-04-07 21:00:00+02:00</td>\n",
       "      <td>438</td>\n",
       "      <td>Dinner</td>\n",
       "    </tr>\n",
       "    <tr>\n",
       "      <th>4</th>\n",
       "      <td>['Addie Patino' 'Susan Guerrero']</td>\n",
       "      <td>2015-07-28</td>\n",
       "      <td>2015-07-27 14:00:00+02:00</td>\n",
       "      <td>690</td>\n",
       "      <td>Lunch</td>\n",
       "    </tr>\n",
       "  </tbody>\n",
       "</table>\n",
       "</div>"
      ],
      "text/plain": [
       "                        Participants       Date               Date of Meal  \\\n",
       "0                   ['David Bishop'] 2016-05-27  2016-05-31 07:00:00+02:00   \n",
       "1                   ['David Bishop'] 2018-09-27  2018-10-01 20:00:00+02:00   \n",
       "2                 ['Karen Stansell'] 2014-08-24  2014-08-23 14:00:00+02:00   \n",
       "3                   ['Addie Patino'] 2014-04-12  2014-04-07 21:00:00+02:00   \n",
       "4  ['Addie Patino' 'Susan Guerrero'] 2015-07-28  2015-07-27 14:00:00+02:00   \n",
       "\n",
       "   Meal Price Type of Meal  \n",
       "0         469    Breakfast  \n",
       "1          22       Dinner  \n",
       "2         314        Lunch  \n",
       "3         438       Dinner  \n",
       "4         690        Lunch  "
      ]
     },
     "execution_count": 24,
     "metadata": {},
     "output_type": "execute_result"
    }
   ],
   "source": [
    "subset1.head()"
   ]
  },
  {
   "cell_type": "code",
   "execution_count": 25,
   "metadata": {},
   "outputs": [],
   "source": [
    "subset1 = subset1[['Date','Participants','Type of Meal','Date of Meal',\n",
    "'Meal Price']]"
   ]
  },
  {
   "cell_type": "code",
   "execution_count": 26,
   "metadata": {},
   "outputs": [
    {
     "data": {
      "text/html": [
       "<div>\n",
       "<style scoped>\n",
       "    .dataframe tbody tr th:only-of-type {\n",
       "        vertical-align: middle;\n",
       "    }\n",
       "\n",
       "    .dataframe tbody tr th {\n",
       "        vertical-align: top;\n",
       "    }\n",
       "\n",
       "    .dataframe thead th {\n",
       "        text-align: right;\n",
       "    }\n",
       "</style>\n",
       "<table border=\"1\" class=\"dataframe\">\n",
       "  <thead>\n",
       "    <tr style=\"text-align: right;\">\n",
       "      <th></th>\n",
       "      <th>Date</th>\n",
       "      <th>Participants</th>\n",
       "      <th>Type of Meal</th>\n",
       "      <th>Date of Meal</th>\n",
       "      <th>Meal Price</th>\n",
       "    </tr>\n",
       "  </thead>\n",
       "  <tbody>\n",
       "    <tr>\n",
       "      <th>0</th>\n",
       "      <td>2016-05-27</td>\n",
       "      <td>['David Bishop']</td>\n",
       "      <td>Breakfast</td>\n",
       "      <td>2016-05-31 07:00:00+02:00</td>\n",
       "      <td>469</td>\n",
       "    </tr>\n",
       "    <tr>\n",
       "      <th>1</th>\n",
       "      <td>2018-09-27</td>\n",
       "      <td>['David Bishop']</td>\n",
       "      <td>Dinner</td>\n",
       "      <td>2018-10-01 20:00:00+02:00</td>\n",
       "      <td>22</td>\n",
       "    </tr>\n",
       "    <tr>\n",
       "      <th>2</th>\n",
       "      <td>2014-08-24</td>\n",
       "      <td>['Karen Stansell']</td>\n",
       "      <td>Lunch</td>\n",
       "      <td>2014-08-23 14:00:00+02:00</td>\n",
       "      <td>314</td>\n",
       "    </tr>\n",
       "    <tr>\n",
       "      <th>3</th>\n",
       "      <td>2014-04-12</td>\n",
       "      <td>['Addie Patino']</td>\n",
       "      <td>Dinner</td>\n",
       "      <td>2014-04-07 21:00:00+02:00</td>\n",
       "      <td>438</td>\n",
       "    </tr>\n",
       "    <tr>\n",
       "      <th>4</th>\n",
       "      <td>2015-07-28</td>\n",
       "      <td>['Addie Patino' 'Susan Guerrero']</td>\n",
       "      <td>Lunch</td>\n",
       "      <td>2015-07-27 14:00:00+02:00</td>\n",
       "      <td>690</td>\n",
       "    </tr>\n",
       "  </tbody>\n",
       "</table>\n",
       "</div>"
      ],
      "text/plain": [
       "        Date                       Participants Type of Meal  \\\n",
       "0 2016-05-27                   ['David Bishop']    Breakfast   \n",
       "1 2018-09-27                   ['David Bishop']       Dinner   \n",
       "2 2014-08-24                 ['Karen Stansell']        Lunch   \n",
       "3 2014-04-12                   ['Addie Patino']       Dinner   \n",
       "4 2015-07-28  ['Addie Patino' 'Susan Guerrero']        Lunch   \n",
       "\n",
       "                Date of Meal  Meal Price  \n",
       "0  2016-05-31 07:00:00+02:00         469  \n",
       "1  2018-10-01 20:00:00+02:00          22  \n",
       "2  2014-08-23 14:00:00+02:00         314  \n",
       "3  2014-04-07 21:00:00+02:00         438  \n",
       "4  2015-07-27 14:00:00+02:00         690  "
      ]
     },
     "execution_count": 26,
     "metadata": {},
     "output_type": "execute_result"
    }
   ],
   "source": [
    "subset1.head()"
   ]
  },
  {
   "cell_type": "code",
   "execution_count": 27,
   "metadata": {},
   "outputs": [],
   "source": [
    "## Create new column Year,day of the month,day of the week\n",
    "subset1[\"Year\"]=subset1[\"Date\"].dt.year\n",
    "subset1[\"Day of The Month\"]=subset1[\"Date\"].dt.day\n",
    "subset1[\"Day of The Week\"]=subset1[\"Date\"].dt.day_name()"
   ]
  },
  {
   "cell_type": "code",
   "execution_count": 28,
   "metadata": {},
   "outputs": [
    {
     "data": {
      "text/html": [
       "<div>\n",
       "<style scoped>\n",
       "    .dataframe tbody tr th:only-of-type {\n",
       "        vertical-align: middle;\n",
       "    }\n",
       "\n",
       "    .dataframe tbody tr th {\n",
       "        vertical-align: top;\n",
       "    }\n",
       "\n",
       "    .dataframe thead th {\n",
       "        text-align: right;\n",
       "    }\n",
       "</style>\n",
       "<table border=\"1\" class=\"dataframe\">\n",
       "  <thead>\n",
       "    <tr style=\"text-align: right;\">\n",
       "      <th></th>\n",
       "      <th>Date</th>\n",
       "      <th>Participants</th>\n",
       "      <th>Type of Meal</th>\n",
       "      <th>Date of Meal</th>\n",
       "      <th>Meal Price</th>\n",
       "      <th>Year</th>\n",
       "      <th>Day of The Month</th>\n",
       "      <th>Day of The Week</th>\n",
       "    </tr>\n",
       "  </thead>\n",
       "  <tbody>\n",
       "    <tr>\n",
       "      <th>0</th>\n",
       "      <td>2016-05-27</td>\n",
       "      <td>['David Bishop']</td>\n",
       "      <td>Breakfast</td>\n",
       "      <td>2016-05-31 07:00:00+02:00</td>\n",
       "      <td>469</td>\n",
       "      <td>2016</td>\n",
       "      <td>27</td>\n",
       "      <td>Friday</td>\n",
       "    </tr>\n",
       "    <tr>\n",
       "      <th>1</th>\n",
       "      <td>2018-09-27</td>\n",
       "      <td>['David Bishop']</td>\n",
       "      <td>Dinner</td>\n",
       "      <td>2018-10-01 20:00:00+02:00</td>\n",
       "      <td>22</td>\n",
       "      <td>2018</td>\n",
       "      <td>27</td>\n",
       "      <td>Thursday</td>\n",
       "    </tr>\n",
       "    <tr>\n",
       "      <th>2</th>\n",
       "      <td>2014-08-24</td>\n",
       "      <td>['Karen Stansell']</td>\n",
       "      <td>Lunch</td>\n",
       "      <td>2014-08-23 14:00:00+02:00</td>\n",
       "      <td>314</td>\n",
       "      <td>2014</td>\n",
       "      <td>24</td>\n",
       "      <td>Sunday</td>\n",
       "    </tr>\n",
       "    <tr>\n",
       "      <th>3</th>\n",
       "      <td>2014-04-12</td>\n",
       "      <td>['Addie Patino']</td>\n",
       "      <td>Dinner</td>\n",
       "      <td>2014-04-07 21:00:00+02:00</td>\n",
       "      <td>438</td>\n",
       "      <td>2014</td>\n",
       "      <td>12</td>\n",
       "      <td>Saturday</td>\n",
       "    </tr>\n",
       "    <tr>\n",
       "      <th>4</th>\n",
       "      <td>2015-07-28</td>\n",
       "      <td>['Addie Patino' 'Susan Guerrero']</td>\n",
       "      <td>Lunch</td>\n",
       "      <td>2015-07-27 14:00:00+02:00</td>\n",
       "      <td>690</td>\n",
       "      <td>2015</td>\n",
       "      <td>28</td>\n",
       "      <td>Tuesday</td>\n",
       "    </tr>\n",
       "  </tbody>\n",
       "</table>\n",
       "</div>"
      ],
      "text/plain": [
       "        Date                       Participants Type of Meal  \\\n",
       "0 2016-05-27                   ['David Bishop']    Breakfast   \n",
       "1 2018-09-27                   ['David Bishop']       Dinner   \n",
       "2 2014-08-24                 ['Karen Stansell']        Lunch   \n",
       "3 2014-04-12                   ['Addie Patino']       Dinner   \n",
       "4 2015-07-28  ['Addie Patino' 'Susan Guerrero']        Lunch   \n",
       "\n",
       "                Date of Meal  Meal Price  Year  Day of The Month  \\\n",
       "0  2016-05-31 07:00:00+02:00         469  2016                27   \n",
       "1  2018-10-01 20:00:00+02:00          22  2018                27   \n",
       "2  2014-08-23 14:00:00+02:00         314  2014                24   \n",
       "3  2014-04-07 21:00:00+02:00         438  2014                12   \n",
       "4  2015-07-27 14:00:00+02:00         690  2015                28   \n",
       "\n",
       "  Day of The Week  \n",
       "0          Friday  \n",
       "1        Thursday  \n",
       "2          Sunday  \n",
       "3        Saturday  \n",
       "4         Tuesday  "
      ]
     },
     "execution_count": 28,
     "metadata": {},
     "output_type": "execute_result"
    }
   ],
   "source": [
    "subset1.head()"
   ]
  },
  {
   "cell_type": "code",
   "execution_count": 29,
   "metadata": {},
   "outputs": [
    {
     "data": {
      "text/html": [
       "<div>\n",
       "<style scoped>\n",
       "    .dataframe tbody tr th:only-of-type {\n",
       "        vertical-align: middle;\n",
       "    }\n",
       "\n",
       "    .dataframe tbody tr th {\n",
       "        vertical-align: top;\n",
       "    }\n",
       "\n",
       "    .dataframe thead th {\n",
       "        text-align: right;\n",
       "    }\n",
       "</style>\n",
       "<table border=\"1\" class=\"dataframe\">\n",
       "  <thead>\n",
       "    <tr style=\"text-align: right;\">\n",
       "      <th></th>\n",
       "      <th>Participants</th>\n",
       "      <th>Type of Meal</th>\n",
       "      <th>Date of Meal</th>\n",
       "      <th>Meal Price</th>\n",
       "      <th>Year</th>\n",
       "      <th>Day of The Month</th>\n",
       "      <th>Day of The Week</th>\n",
       "    </tr>\n",
       "  </thead>\n",
       "  <tbody>\n",
       "    <tr>\n",
       "      <th>0</th>\n",
       "      <td>['David Bishop']</td>\n",
       "      <td>Breakfast</td>\n",
       "      <td>2016-05-31 07:00:00+02:00</td>\n",
       "      <td>469</td>\n",
       "      <td>2016</td>\n",
       "      <td>27</td>\n",
       "      <td>Friday</td>\n",
       "    </tr>\n",
       "    <tr>\n",
       "      <th>1</th>\n",
       "      <td>['David Bishop']</td>\n",
       "      <td>Dinner</td>\n",
       "      <td>2018-10-01 20:00:00+02:00</td>\n",
       "      <td>22</td>\n",
       "      <td>2018</td>\n",
       "      <td>27</td>\n",
       "      <td>Thursday</td>\n",
       "    </tr>\n",
       "    <tr>\n",
       "      <th>2</th>\n",
       "      <td>['Karen Stansell']</td>\n",
       "      <td>Lunch</td>\n",
       "      <td>2014-08-23 14:00:00+02:00</td>\n",
       "      <td>314</td>\n",
       "      <td>2014</td>\n",
       "      <td>24</td>\n",
       "      <td>Sunday</td>\n",
       "    </tr>\n",
       "    <tr>\n",
       "      <th>3</th>\n",
       "      <td>['Addie Patino']</td>\n",
       "      <td>Dinner</td>\n",
       "      <td>2014-04-07 21:00:00+02:00</td>\n",
       "      <td>438</td>\n",
       "      <td>2014</td>\n",
       "      <td>12</td>\n",
       "      <td>Saturday</td>\n",
       "    </tr>\n",
       "    <tr>\n",
       "      <th>4</th>\n",
       "      <td>['Addie Patino' 'Susan Guerrero']</td>\n",
       "      <td>Lunch</td>\n",
       "      <td>2015-07-27 14:00:00+02:00</td>\n",
       "      <td>690</td>\n",
       "      <td>2015</td>\n",
       "      <td>28</td>\n",
       "      <td>Tuesday</td>\n",
       "    </tr>\n",
       "  </tbody>\n",
       "</table>\n",
       "</div>"
      ],
      "text/plain": [
       "                        Participants Type of Meal               Date of Meal  \\\n",
       "0                   ['David Bishop']    Breakfast  2016-05-31 07:00:00+02:00   \n",
       "1                   ['David Bishop']       Dinner  2018-10-01 20:00:00+02:00   \n",
       "2                 ['Karen Stansell']        Lunch  2014-08-23 14:00:00+02:00   \n",
       "3                   ['Addie Patino']       Dinner  2014-04-07 21:00:00+02:00   \n",
       "4  ['Addie Patino' 'Susan Guerrero']        Lunch  2015-07-27 14:00:00+02:00   \n",
       "\n",
       "   Meal Price  Year  Day of The Month Day of The Week  \n",
       "0         469  2016                27          Friday  \n",
       "1          22  2018                27        Thursday  \n",
       "2         314  2014                24          Sunday  \n",
       "3         438  2014                12        Saturday  \n",
       "4         690  2015                28         Tuesday  "
      ]
     },
     "execution_count": 29,
     "metadata": {},
     "output_type": "execute_result"
    }
   ],
   "source": [
    "subset1.drop(columns=[\"Date\"],inplace=True)\n",
    "subset1.head()"
   ]
  },
  {
   "cell_type": "markdown",
   "metadata": {},
   "source": [
    "## **Awesome the dataset is now have meaningfull information**\n",
    "## *Now we just need to visualization the dataset using PowerBI or Tableau* \n",
    "## *import to SQL or CSV that can use by other team like data science*\n",
    "\n",
    "# **Job DONE**"
   ]
  },
  {
   "cell_type": "code",
   "execution_count": null,
   "metadata": {},
   "outputs": [],
   "source": [
    "subset1.to_csv(\"sales_invoice_done.csv\",index=False)"
   ]
  },
  {
   "cell_type": "code",
   "execution_count": 31,
   "metadata": {},
   "outputs": [],
   "source": [
    "df.to_csv(\"invoice_raw_dataset.csv\",index=False)"
   ]
  }
 ],
 "metadata": {
  "kernelspec": {
   "display_name": "Python 3.9.12 ('base')",
   "language": "python",
   "name": "python3"
  },
  "language_info": {
   "codemirror_mode": {
    "name": "ipython",
    "version": 3
   },
   "file_extension": ".py",
   "mimetype": "text/x-python",
   "name": "python",
   "nbconvert_exporter": "python",
   "pygments_lexer": "ipython3",
   "version": "3.9.12"
  },
  "orig_nbformat": 4,
  "vscode": {
   "interpreter": {
    "hash": "367d28e31e7a52eba77a2daf5aac0b8141c7fb1fe010869a01b64def5edb5471"
   }
  }
 },
 "nbformat": 4,
 "nbformat_minor": 2
}
